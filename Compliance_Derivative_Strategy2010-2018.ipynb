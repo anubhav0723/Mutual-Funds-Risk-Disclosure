{
 "cells": [
  {
   "cell_type": "code",
   "execution_count": 1,
   "metadata": {},
   "outputs": [],
   "source": [
    "import tweepy\n",
    "import csv\n",
    "import time\n",
    "import html.parser as hp\n",
    "import pandas as pd\n",
    "import nltk\n",
    "import pickle\n",
    "import numpy as np\n",
    "import gensim\n",
    "import re  # regular expressions (for playing with the text)\n",
    "from gensim.parsing.preprocessing import STOPWORDS # common english \"stop words\" -- a, the, etc.\n",
    "from gensim.parsing import PorterStemmer\n",
    "from gensim import corpora, models\n",
    "import nltk.data\n",
    "import nltk\n",
    "\n",
    "from sklearn.decomposition import LatentDirichletAllocation, TruncatedSVD\n",
    "from sklearn.feature_extraction.text import CountVectorizer, TfidfVectorizer\n",
    "from sklearn.model_selection import GridSearchCV\n",
    "from pprint import pprint\n",
    "\n",
    "import pyLDAvis\n",
    "import pyLDAvis.sklearn\n",
    "import matplotlib.pyplot as plt\n",
    "%matplotlib inline\n",
    "import spacy\n",
    "\n",
    "from nltk.tokenize import RegexpTokenizer\n",
    "from gensim import corpora, models\n",
    "import gensim\n",
    "import os\n",
    "from os import path\n",
    "from time import sleep\n",
    "import matplotlib.pyplot as plt\n",
    "import random\n",
    "import wordcloud\n",
    "from wordcloud import WordCloud , STOPWORDS\n",
    "\n",
    "import re\n",
    "import pickle\n",
    "import gensim\n",
    "from gensim.models import Word2Vec\n",
    "from sklearn.decomposition import PCA\n",
    "import matplotlib.pyplot as plt\n",
    "%matplotlib inline\n",
    "\n",
    "import warnings\n",
    "warnings.filterwarnings(\"ignore\")\n",
    "\n",
    "import string\n"
   ]
  },
  {
   "cell_type": "code",
   "execution_count": 2,
   "metadata": {},
   "outputs": [],
   "source": [
    "final=pd.read_excel('Strategy2010 -2018.xlsx')"
   ]
  },
  {
   "cell_type": "code",
   "execution_count": 3,
   "metadata": {},
   "outputs": [
    {
     "data": {
      "text/plain": [
       "(131270, 4)"
      ]
     },
     "execution_count": 3,
     "metadata": {},
     "output_type": "execute_result"
    }
   ],
   "source": [
    "final.shape"
   ]
  },
  {
   "cell_type": "code",
   "execution_count": 4,
   "metadata": {},
   "outputs": [
    {
     "data": {
      "text/html": [
       "<div>\n",
       "<style scoped>\n",
       "    .dataframe tbody tr th:only-of-type {\n",
       "        vertical-align: middle;\n",
       "    }\n",
       "\n",
       "    .dataframe tbody tr th {\n",
       "        vertical-align: top;\n",
       "    }\n",
       "\n",
       "    .dataframe thead th {\n",
       "        text-align: right;\n",
       "    }\n",
       "</style>\n",
       "<table border=\"1\" class=\"dataframe\">\n",
       "  <thead>\n",
       "    <tr style=\"text-align: right;\">\n",
       "      <th></th>\n",
       "      <th>Unnamed: 0</th>\n",
       "      <th>filing_date</th>\n",
       "      <th>fund_CIK</th>\n",
       "      <th>principal_strategies</th>\n",
       "    </tr>\n",
       "  </thead>\n",
       "  <tbody>\n",
       "    <tr>\n",
       "      <th>0</th>\n",
       "      <td>0001318148-10-001804</td>\n",
       "      <td>20101124</td>\n",
       "      <td>879569</td>\n",
       "      <td>?the fund pursues its objective by investing i...</td>\n",
       "    </tr>\n",
       "    <tr>\n",
       "      <th>1</th>\n",
       "      <td>0000356682-10-000007</td>\n",
       "      <td>20100201</td>\n",
       "      <td>356682</td>\n",
       "      <td>the fund is a \"fund of funds\" that seeks to ...</td>\n",
       "    </tr>\n",
       "    <tr>\n",
       "      <th>2</th>\n",
       "      <td>0001193125-10-282324</td>\n",
       "      <td>20101216</td>\n",
       "      <td>1174610</td>\n",
       "      <td>the fund invests in derivatives that proshar...</td>\n",
       "    </tr>\n",
       "    <tr>\n",
       "      <th>3</th>\n",
       "      <td>0001398344-10-000552</td>\n",
       "      <td>20100430</td>\n",
       "      <td>890453</td>\n",
       "      <td>...</td>\n",
       "    </tr>\n",
       "    <tr>\n",
       "      <th>4</th>\n",
       "      <td>0000950123-10-065147</td>\n",
       "      <td>20100713</td>\n",
       "      <td>1424958</td>\n",
       "      <td>the fund, under normal circumstances...</td>\n",
       "    </tr>\n",
       "  </tbody>\n",
       "</table>\n",
       "</div>"
      ],
      "text/plain": [
       "             Unnamed: 0  filing_date  fund_CIK  \\\n",
       "0  0001318148-10-001804     20101124    879569   \n",
       "1  0000356682-10-000007     20100201    356682   \n",
       "2  0001193125-10-282324     20101216   1174610   \n",
       "3  0001398344-10-000552     20100430    890453   \n",
       "4  0000950123-10-065147     20100713   1424958   \n",
       "\n",
       "                                principal_strategies  \n",
       "0  ?the fund pursues its objective by investing i...  \n",
       "1    the fund is a \"fund of funds\" that seeks to ...  \n",
       "2    the fund invests in derivatives that proshar...  \n",
       "3                                                ...  \n",
       "4            the fund, under normal circumstances...  "
      ]
     },
     "execution_count": 4,
     "metadata": {},
     "output_type": "execute_result"
    }
   ],
   "source": [
    "final.head()"
   ]
  },
  {
   "cell_type": "code",
   "execution_count": 5,
   "metadata": {},
   "outputs": [],
   "source": [
    "mylist=['lose','losing','lost','loses','loss']\n",
    "value_list=[]\n",
    "for row in final['principal_strategies']:\n",
    "    before_one_word=[]\n",
    "    before_two_word=[]\n",
    "    before_words=[]\n",
    "    row=str(row)\n",
    "    row=row.translate(str.maketrans('', '', string.punctuation))\n",
    "    words = row.lower().split()\n",
    "    t = [i for i, x in enumerate(words) if x == \"money\"]\n",
    "    for d in t:\n",
    "        before_one_word.append(words[d-1])\n",
    "        before_two_word.append(words[d-2])\n",
    "    before_words=before_one_word+before_two_word\n",
    "    if len([i for i in mylist if i in before_words])>0:\n",
    "        value_list.append(1)\n",
    "    else:\n",
    "        value_list.append(0)\n",
    "        #if ('lose' == (words[d-1]) or 'lose' == words[d-2]) or ('losing' == (words[d-1]) or 'losing' == (words[d-2])) or ('lost' == (words[d-1]) or 'lost' == (words[d-2])) or ('loses' == (words[d-1]) or 'loses' == (words[d-2])):\n",
    "#             val=1\n",
    "            #value_list.append(1)\n",
    "#         else:\n",
    "#             val=0\n",
    "# #             #value_list.append(0)\n",
    "#     value_list.append(val)"
   ]
  },
  {
   "cell_type": "code",
   "execution_count": 6,
   "metadata": {},
   "outputs": [],
   "source": [
    "final['comp_money']=''"
   ]
  },
  {
   "cell_type": "code",
   "execution_count": 7,
   "metadata": {},
   "outputs": [],
   "source": [
    "final['comp_money']=value_list"
   ]
  },
  {
   "cell_type": "code",
   "execution_count": 8,
   "metadata": {},
   "outputs": [
    {
     "data": {
      "text/html": [
       "<div>\n",
       "<style scoped>\n",
       "    .dataframe tbody tr th:only-of-type {\n",
       "        vertical-align: middle;\n",
       "    }\n",
       "\n",
       "    .dataframe tbody tr th {\n",
       "        vertical-align: top;\n",
       "    }\n",
       "\n",
       "    .dataframe thead th {\n",
       "        text-align: right;\n",
       "    }\n",
       "</style>\n",
       "<table border=\"1\" class=\"dataframe\">\n",
       "  <thead>\n",
       "    <tr style=\"text-align: right;\">\n",
       "      <th></th>\n",
       "      <th>Unnamed: 0</th>\n",
       "      <th>filing_date</th>\n",
       "      <th>fund_CIK</th>\n",
       "      <th>principal_strategies</th>\n",
       "      <th>comp_money</th>\n",
       "    </tr>\n",
       "  </thead>\n",
       "  <tbody>\n",
       "    <tr>\n",
       "      <th>0</th>\n",
       "      <td>0001318148-10-001804</td>\n",
       "      <td>20101124</td>\n",
       "      <td>879569</td>\n",
       "      <td>?the fund pursues its objective by investing i...</td>\n",
       "      <td>0</td>\n",
       "    </tr>\n",
       "    <tr>\n",
       "      <th>1</th>\n",
       "      <td>0000356682-10-000007</td>\n",
       "      <td>20100201</td>\n",
       "      <td>356682</td>\n",
       "      <td>the fund is a \"fund of funds\" that seeks to ...</td>\n",
       "      <td>0</td>\n",
       "    </tr>\n",
       "    <tr>\n",
       "      <th>2</th>\n",
       "      <td>0001193125-10-282324</td>\n",
       "      <td>20101216</td>\n",
       "      <td>1174610</td>\n",
       "      <td>the fund invests in derivatives that proshar...</td>\n",
       "      <td>1</td>\n",
       "    </tr>\n",
       "    <tr>\n",
       "      <th>3</th>\n",
       "      <td>0001398344-10-000552</td>\n",
       "      <td>20100430</td>\n",
       "      <td>890453</td>\n",
       "      <td>...</td>\n",
       "      <td>0</td>\n",
       "    </tr>\n",
       "    <tr>\n",
       "      <th>4</th>\n",
       "      <td>0000950123-10-065147</td>\n",
       "      <td>20100713</td>\n",
       "      <td>1424958</td>\n",
       "      <td>the fund, under normal circumstances...</td>\n",
       "      <td>0</td>\n",
       "    </tr>\n",
       "  </tbody>\n",
       "</table>\n",
       "</div>"
      ],
      "text/plain": [
       "             Unnamed: 0  filing_date  fund_CIK  \\\n",
       "0  0001318148-10-001804     20101124    879569   \n",
       "1  0000356682-10-000007     20100201    356682   \n",
       "2  0001193125-10-282324     20101216   1174610   \n",
       "3  0001398344-10-000552     20100430    890453   \n",
       "4  0000950123-10-065147     20100713   1424958   \n",
       "\n",
       "                                principal_strategies  comp_money  \n",
       "0  ?the fund pursues its objective by investing i...           0  \n",
       "1    the fund is a \"fund of funds\" that seeks to ...           0  \n",
       "2    the fund invests in derivatives that proshar...           1  \n",
       "3                                                ...           0  \n",
       "4            the fund, under normal circumstances...           0  "
      ]
     },
     "execution_count": 8,
     "metadata": {},
     "output_type": "execute_result"
    }
   ],
   "source": [
    "final.head()"
   ]
  },
  {
   "cell_type": "code",
   "execution_count": 9,
   "metadata": {},
   "outputs": [
    {
     "data": {
      "text/plain": [
       "0    112277\n",
       "1     18993\n",
       "Name: comp_money, dtype: int64"
      ]
     },
     "execution_count": 9,
     "metadata": {},
     "output_type": "execute_result"
    }
   ],
   "source": [
    "final.comp_money.value_counts()"
   ]
  },
  {
   "cell_type": "code",
   "execution_count": 10,
   "metadata": {},
   "outputs": [],
   "source": [
    "mylist=['lose','losing','lost','loses','loss']\n",
    "value_list=[]\n",
    "for row in final['principal_strategies']:\n",
    "    before_one_word=[]\n",
    "    before_two_word=[]\n",
    "    before_three_word=[]\n",
    "    before_four_word=[]\n",
    "    before_five_word=[]\n",
    "    before_words=[]\n",
    "    row=str(row)\n",
    "    row=row.translate(str.maketrans('', '', string.punctuation))\n",
    "    words = row.lower().split()\n",
    "    t = [i for i, x in enumerate(words) if (x == \"investment\" or x==\"investing\" or x == \"investments\")]\n",
    "    for d in t:\n",
    "        before_one_word.append(words[d-1])\n",
    "        if d >=1:\n",
    "            before_two_word.append(words[d-2])\n",
    "            before_three_word.append(words[d-3])\n",
    "            before_four_word.append(words[d-4])\n",
    "            before_five_word.append(words[d-5])\n",
    "    before_words=before_one_word+before_two_word+before_three_word+before_four_word+before_five_word\n",
    "    if len([i for i in mylist if i in before_words])>0:\n",
    "        value_list.append(1)\n",
    "    else:\n",
    "        value_list.append(0)"
   ]
  },
  {
   "cell_type": "code",
   "execution_count": 11,
   "metadata": {},
   "outputs": [],
   "source": [
    "final['comp_invest']=''"
   ]
  },
  {
   "cell_type": "code",
   "execution_count": 12,
   "metadata": {},
   "outputs": [],
   "source": [
    "final['comp_invest']=value_list"
   ]
  },
  {
   "cell_type": "code",
   "execution_count": 13,
   "metadata": {},
   "outputs": [
    {
     "data": {
      "text/html": [
       "<div>\n",
       "<style scoped>\n",
       "    .dataframe tbody tr th:only-of-type {\n",
       "        vertical-align: middle;\n",
       "    }\n",
       "\n",
       "    .dataframe tbody tr th {\n",
       "        vertical-align: top;\n",
       "    }\n",
       "\n",
       "    .dataframe thead th {\n",
       "        text-align: right;\n",
       "    }\n",
       "</style>\n",
       "<table border=\"1\" class=\"dataframe\">\n",
       "  <thead>\n",
       "    <tr style=\"text-align: right;\">\n",
       "      <th></th>\n",
       "      <th>Unnamed: 0</th>\n",
       "      <th>filing_date</th>\n",
       "      <th>fund_CIK</th>\n",
       "      <th>principal_strategies</th>\n",
       "      <th>comp_money</th>\n",
       "      <th>comp_invest</th>\n",
       "    </tr>\n",
       "  </thead>\n",
       "  <tbody>\n",
       "    <tr>\n",
       "      <th>0</th>\n",
       "      <td>0001318148-10-001804</td>\n",
       "      <td>20101124</td>\n",
       "      <td>879569</td>\n",
       "      <td>?the fund pursues its objective by investing i...</td>\n",
       "      <td>0</td>\n",
       "      <td>0</td>\n",
       "    </tr>\n",
       "    <tr>\n",
       "      <th>1</th>\n",
       "      <td>0000356682-10-000007</td>\n",
       "      <td>20100201</td>\n",
       "      <td>356682</td>\n",
       "      <td>the fund is a \"fund of funds\" that seeks to ...</td>\n",
       "      <td>0</td>\n",
       "      <td>0</td>\n",
       "    </tr>\n",
       "    <tr>\n",
       "      <th>2</th>\n",
       "      <td>0001193125-10-282324</td>\n",
       "      <td>20101216</td>\n",
       "      <td>1174610</td>\n",
       "      <td>the fund invests in derivatives that proshar...</td>\n",
       "      <td>1</td>\n",
       "      <td>1</td>\n",
       "    </tr>\n",
       "    <tr>\n",
       "      <th>3</th>\n",
       "      <td>0001398344-10-000552</td>\n",
       "      <td>20100430</td>\n",
       "      <td>890453</td>\n",
       "      <td>...</td>\n",
       "      <td>0</td>\n",
       "      <td>0</td>\n",
       "    </tr>\n",
       "    <tr>\n",
       "      <th>4</th>\n",
       "      <td>0000950123-10-065147</td>\n",
       "      <td>20100713</td>\n",
       "      <td>1424958</td>\n",
       "      <td>the fund, under normal circumstances...</td>\n",
       "      <td>0</td>\n",
       "      <td>0</td>\n",
       "    </tr>\n",
       "  </tbody>\n",
       "</table>\n",
       "</div>"
      ],
      "text/plain": [
       "             Unnamed: 0  filing_date  fund_CIK  \\\n",
       "0  0001318148-10-001804     20101124    879569   \n",
       "1  0000356682-10-000007     20100201    356682   \n",
       "2  0001193125-10-282324     20101216   1174610   \n",
       "3  0001398344-10-000552     20100430    890453   \n",
       "4  0000950123-10-065147     20100713   1424958   \n",
       "\n",
       "                                principal_strategies  comp_money  comp_invest  \n",
       "0  ?the fund pursues its objective by investing i...           0            0  \n",
       "1    the fund is a \"fund of funds\" that seeks to ...           0            0  \n",
       "2    the fund invests in derivatives that proshar...           1            1  \n",
       "3                                                ...           0            0  \n",
       "4            the fund, under normal circumstances...           0            0  "
      ]
     },
     "execution_count": 13,
     "metadata": {},
     "output_type": "execute_result"
    }
   ],
   "source": [
    "final.head()"
   ]
  },
  {
   "cell_type": "code",
   "execution_count": 14,
   "metadata": {},
   "outputs": [
    {
     "data": {
      "text/plain": [
       "(131270, 6)"
      ]
     },
     "execution_count": 14,
     "metadata": {},
     "output_type": "execute_result"
    }
   ],
   "source": [
    "final.shape"
   ]
  },
  {
   "cell_type": "code",
   "execution_count": 15,
   "metadata": {},
   "outputs": [
    {
     "data": {
      "text/plain": [
       "0    118758\n",
       "1     12512\n",
       "Name: comp_invest, dtype: int64"
      ]
     },
     "execution_count": 15,
     "metadata": {},
     "output_type": "execute_result"
    }
   ],
   "source": [
    "final.comp_invest.value_counts()"
   ]
  },
  {
   "cell_type": "code",
   "execution_count": 16,
   "metadata": {},
   "outputs": [],
   "source": [
    "der=['derivative','derivatives']\n",
    "\n",
    "count_der=0\n",
    "cnt_der=[]\n",
    "for row in final['principal_strategies']:\n",
    "    row=str(row)\n",
    "    row=row.translate(str.maketrans('', '', string.punctuation))\n",
    "    words = row.lower().split()\n",
    "    #count_neg.append(len([i for i in tokens1 if i in list_Negative]))\n",
    "    count_der = len([i for i in words if i in der])\n",
    "    cnt_der.append(count_der)"
   ]
  },
  {
   "cell_type": "code",
   "execution_count": 17,
   "metadata": {},
   "outputs": [],
   "source": [
    "final['Cnt_Derivative']=''\n",
    "final['Cnt_Derivative']=cnt_der"
   ]
  },
  {
   "cell_type": "code",
   "execution_count": 18,
   "metadata": {},
   "outputs": [
    {
     "data": {
      "text/html": [
       "<div>\n",
       "<style scoped>\n",
       "    .dataframe tbody tr th:only-of-type {\n",
       "        vertical-align: middle;\n",
       "    }\n",
       "\n",
       "    .dataframe tbody tr th {\n",
       "        vertical-align: top;\n",
       "    }\n",
       "\n",
       "    .dataframe thead th {\n",
       "        text-align: right;\n",
       "    }\n",
       "</style>\n",
       "<table border=\"1\" class=\"dataframe\">\n",
       "  <thead>\n",
       "    <tr style=\"text-align: right;\">\n",
       "      <th></th>\n",
       "      <th>Unnamed: 0</th>\n",
       "      <th>filing_date</th>\n",
       "      <th>fund_CIK</th>\n",
       "      <th>principal_strategies</th>\n",
       "      <th>comp_money</th>\n",
       "      <th>comp_invest</th>\n",
       "      <th>Cnt_Derivative</th>\n",
       "    </tr>\n",
       "  </thead>\n",
       "  <tbody>\n",
       "    <tr>\n",
       "      <th>0</th>\n",
       "      <td>0001318148-10-001804</td>\n",
       "      <td>20101124</td>\n",
       "      <td>879569</td>\n",
       "      <td>?the fund pursues its objective by investing i...</td>\n",
       "      <td>0</td>\n",
       "      <td>0</td>\n",
       "      <td>1</td>\n",
       "    </tr>\n",
       "    <tr>\n",
       "      <th>1</th>\n",
       "      <td>0000356682-10-000007</td>\n",
       "      <td>20100201</td>\n",
       "      <td>356682</td>\n",
       "      <td>the fund is a \"fund of funds\" that seeks to ...</td>\n",
       "      <td>0</td>\n",
       "      <td>0</td>\n",
       "      <td>0</td>\n",
       "    </tr>\n",
       "    <tr>\n",
       "      <th>2</th>\n",
       "      <td>0001193125-10-282324</td>\n",
       "      <td>20101216</td>\n",
       "      <td>1174610</td>\n",
       "      <td>the fund invests in derivatives that proshar...</td>\n",
       "      <td>1</td>\n",
       "      <td>1</td>\n",
       "      <td>10</td>\n",
       "    </tr>\n",
       "    <tr>\n",
       "      <th>3</th>\n",
       "      <td>0001398344-10-000552</td>\n",
       "      <td>20100430</td>\n",
       "      <td>890453</td>\n",
       "      <td>...</td>\n",
       "      <td>0</td>\n",
       "      <td>0</td>\n",
       "      <td>0</td>\n",
       "    </tr>\n",
       "    <tr>\n",
       "      <th>4</th>\n",
       "      <td>0000950123-10-065147</td>\n",
       "      <td>20100713</td>\n",
       "      <td>1424958</td>\n",
       "      <td>the fund, under normal circumstances...</td>\n",
       "      <td>0</td>\n",
       "      <td>0</td>\n",
       "      <td>0</td>\n",
       "    </tr>\n",
       "    <tr>\n",
       "      <th>5</th>\n",
       "      <td>0001144204-10-055954</td>\n",
       "      <td>20101028</td>\n",
       "      <td>352667</td>\n",
       "      <td>the fund invests primarily in high-quality, ...</td>\n",
       "      <td>0</td>\n",
       "      <td>0</td>\n",
       "      <td>0</td>\n",
       "    </tr>\n",
       "    <tr>\n",
       "      <th>6</th>\n",
       "      <td>0001104659-10-023089</td>\n",
       "      <td>20100429</td>\n",
       "      <td>837276</td>\n",
       "      <td>under normal market conditions, the portfolio...</td>\n",
       "      <td>0</td>\n",
       "      <td>0</td>\n",
       "      <td>0</td>\n",
       "    </tr>\n",
       "    <tr>\n",
       "      <th>7</th>\n",
       "      <td>0000067590-10-000927</td>\n",
       "      <td>20101223</td>\n",
       "      <td>741350</td>\n",
       "      <td>. we look for investments that we think will i...</td>\n",
       "      <td>0</td>\n",
       "      <td>0</td>\n",
       "      <td>0</td>\n",
       "    </tr>\n",
       "    <tr>\n",
       "      <th>8</th>\n",
       "      <td>0001193125-10-240071</td>\n",
       "      <td>20101029</td>\n",
       "      <td>1450011</td>\n",
       "      <td>the fund seeks to achieve its investm...</td>\n",
       "      <td>0</td>\n",
       "      <td>0</td>\n",
       "      <td>2</td>\n",
       "    </tr>\n",
       "    <tr>\n",
       "      <th>9</th>\n",
       "      <td>0000950123-10-098784</td>\n",
       "      <td>20101101</td>\n",
       "      <td>809593</td>\n",
       "      <td>ordinarily, at least 80% of the fu...</td>\n",
       "      <td>0</td>\n",
       "      <td>0</td>\n",
       "      <td>0</td>\n",
       "    </tr>\n",
       "  </tbody>\n",
       "</table>\n",
       "</div>"
      ],
      "text/plain": [
       "             Unnamed: 0  filing_date  fund_CIK  \\\n",
       "0  0001318148-10-001804     20101124    879569   \n",
       "1  0000356682-10-000007     20100201    356682   \n",
       "2  0001193125-10-282324     20101216   1174610   \n",
       "3  0001398344-10-000552     20100430    890453   \n",
       "4  0000950123-10-065147     20100713   1424958   \n",
       "5  0001144204-10-055954     20101028    352667   \n",
       "6  0001104659-10-023089     20100429    837276   \n",
       "7  0000067590-10-000927     20101223    741350   \n",
       "8  0001193125-10-240071     20101029   1450011   \n",
       "9  0000950123-10-098784     20101101    809593   \n",
       "\n",
       "                                principal_strategies  comp_money  comp_invest  \\\n",
       "0  ?the fund pursues its objective by investing i...           0            0   \n",
       "1    the fund is a \"fund of funds\" that seeks to ...           0            0   \n",
       "2    the fund invests in derivatives that proshar...           1            1   \n",
       "3                                                ...           0            0   \n",
       "4            the fund, under normal circumstances...           0            0   \n",
       "5    the fund invests primarily in high-quality, ...           0            0   \n",
       "6   under normal market conditions, the portfolio...           0            0   \n",
       "7  . we look for investments that we think will i...           0            0   \n",
       "8           the fund seeks to achieve its investm...           0            0   \n",
       "9              ordinarily, at least 80% of the fu...           0            0   \n",
       "\n",
       "   Cnt_Derivative  \n",
       "0               1  \n",
       "1               0  \n",
       "2              10  \n",
       "3               0  \n",
       "4               0  \n",
       "5               0  \n",
       "6               0  \n",
       "7               0  \n",
       "8               2  \n",
       "9               0  "
      ]
     },
     "execution_count": 18,
     "metadata": {},
     "output_type": "execute_result"
    }
   ],
   "source": [
    "final.head(10)"
   ]
  },
  {
   "cell_type": "code",
   "execution_count": 19,
   "metadata": {},
   "outputs": [
    {
     "data": {
      "text/plain": [
       "count    131270.000000\n",
       "mean          1.326160\n",
       "std           2.611942\n",
       "min           0.000000\n",
       "25%           0.000000\n",
       "50%           0.000000\n",
       "75%           2.000000\n",
       "max          44.000000\n",
       "Name: Cnt_Derivative, dtype: float64"
      ]
     },
     "execution_count": 19,
     "metadata": {},
     "output_type": "execute_result"
    }
   ],
   "source": [
    "final.Cnt_Derivative.describe()"
   ]
  },
  {
   "cell_type": "code",
   "execution_count": 20,
   "metadata": {},
   "outputs": [],
   "source": [
    "#final.to_csv('Strategy_Compliance_Derivative2010-2018.csv', index=False)"
   ]
  },
  {
   "cell_type": "code",
   "execution_count": 21,
   "metadata": {},
   "outputs": [
    {
     "data": {
      "text/plain": [
       "(131270, 7)"
      ]
     },
     "execution_count": 21,
     "metadata": {},
     "output_type": "execute_result"
    }
   ],
   "source": [
    "final.shape"
   ]
  },
  {
   "cell_type": "code",
   "execution_count": 22,
   "metadata": {},
   "outputs": [
    {
     "data": {
      "text/plain": [
       "0    112277\n",
       "1     18993\n",
       "Name: comp_money, dtype: int64"
      ]
     },
     "execution_count": 22,
     "metadata": {},
     "output_type": "execute_result"
    }
   ],
   "source": [
    "final.comp_money.value_counts()"
   ]
  },
  {
   "cell_type": "code",
   "execution_count": 23,
   "metadata": {},
   "outputs": [],
   "source": [
    "df=pd.read_csv('Strategy_Compliance_Derivative2010-2018_new.csv')"
   ]
  },
  {
   "cell_type": "code",
   "execution_count": 24,
   "metadata": {},
   "outputs": [
    {
     "data": {
      "text/html": [
       "<div>\n",
       "<style scoped>\n",
       "    .dataframe tbody tr th:only-of-type {\n",
       "        vertical-align: middle;\n",
       "    }\n",
       "\n",
       "    .dataframe tbody tr th {\n",
       "        vertical-align: top;\n",
       "    }\n",
       "\n",
       "    .dataframe thead th {\n",
       "        text-align: right;\n",
       "    }\n",
       "</style>\n",
       "<table border=\"1\" class=\"dataframe\">\n",
       "  <thead>\n",
       "    <tr style=\"text-align: right;\">\n",
       "      <th></th>\n",
       "      <th>Unnamed: 0</th>\n",
       "      <th>filing_date</th>\n",
       "      <th>fund_CIK</th>\n",
       "      <th>principal_strategies</th>\n",
       "      <th>comp_money</th>\n",
       "      <th>comp_invest</th>\n",
       "      <th>Cnt_Derivative</th>\n",
       "    </tr>\n",
       "  </thead>\n",
       "  <tbody>\n",
       "    <tr>\n",
       "      <th>0</th>\n",
       "      <td>0001318148-10-001804</td>\n",
       "      <td>20101124</td>\n",
       "      <td>879569</td>\n",
       "      <td>?the fund pursues its objective by investing i...</td>\n",
       "      <td>0</td>\n",
       "      <td>0</td>\n",
       "      <td>1</td>\n",
       "    </tr>\n",
       "    <tr>\n",
       "      <th>1</th>\n",
       "      <td>0000356682-10-000007</td>\n",
       "      <td>20100201</td>\n",
       "      <td>356682</td>\n",
       "      <td>the fund is a \"fund of funds\" that seeks to ...</td>\n",
       "      <td>0</td>\n",
       "      <td>0</td>\n",
       "      <td>0</td>\n",
       "    </tr>\n",
       "    <tr>\n",
       "      <th>2</th>\n",
       "      <td>0001193125-10-282324</td>\n",
       "      <td>20101216</td>\n",
       "      <td>1174610</td>\n",
       "      <td>the fund invests in derivatives that proshar...</td>\n",
       "      <td>1</td>\n",
       "      <td>1</td>\n",
       "      <td>10</td>\n",
       "    </tr>\n",
       "    <tr>\n",
       "      <th>3</th>\n",
       "      <td>0001398344-10-000552</td>\n",
       "      <td>20100430</td>\n",
       "      <td>890453</td>\n",
       "      <td>...</td>\n",
       "      <td>0</td>\n",
       "      <td>0</td>\n",
       "      <td>0</td>\n",
       "    </tr>\n",
       "    <tr>\n",
       "      <th>4</th>\n",
       "      <td>0000950123-10-065147</td>\n",
       "      <td>20100713</td>\n",
       "      <td>1424958</td>\n",
       "      <td>the fund, under normal circumstances...</td>\n",
       "      <td>0</td>\n",
       "      <td>0</td>\n",
       "      <td>0</td>\n",
       "    </tr>\n",
       "  </tbody>\n",
       "</table>\n",
       "</div>"
      ],
      "text/plain": [
       "             Unnamed: 0  filing_date  fund_CIK  \\\n",
       "0  0001318148-10-001804     20101124    879569   \n",
       "1  0000356682-10-000007     20100201    356682   \n",
       "2  0001193125-10-282324     20101216   1174610   \n",
       "3  0001398344-10-000552     20100430    890453   \n",
       "4  0000950123-10-065147     20100713   1424958   \n",
       "\n",
       "                                principal_strategies  comp_money  comp_invest  \\\n",
       "0  ?the fund pursues its objective by investing i...           0            0   \n",
       "1    the fund is a \"fund of funds\" that seeks to ...           0            0   \n",
       "2    the fund invests in derivatives that proshar...           1            1   \n",
       "3                                                ...           0            0   \n",
       "4            the fund, under normal circumstances...           0            0   \n",
       "\n",
       "   Cnt_Derivative  \n",
       "0               1  \n",
       "1               0  \n",
       "2              10  \n",
       "3               0  \n",
       "4               0  "
      ]
     },
     "execution_count": 24,
     "metadata": {},
     "output_type": "execute_result"
    }
   ],
   "source": [
    "df.head()"
   ]
  },
  {
   "cell_type": "code",
   "execution_count": 25,
   "metadata": {},
   "outputs": [
    {
     "data": {
      "text/plain": [
       "(131211, 7)"
      ]
     },
     "execution_count": 25,
     "metadata": {},
     "output_type": "execute_result"
    }
   ],
   "source": [
    "df.shape"
   ]
  },
  {
   "cell_type": "code",
   "execution_count": 26,
   "metadata": {},
   "outputs": [
    {
     "data": {
      "text/plain": [
       "0    112236\n",
       "1     18975\n",
       "Name: comp_money, dtype: int64"
      ]
     },
     "execution_count": 26,
     "metadata": {},
     "output_type": "execute_result"
    }
   ],
   "source": [
    "df.comp_money.value_counts()"
   ]
  },
  {
   "cell_type": "code",
   "execution_count": 27,
   "metadata": {},
   "outputs": [
    {
     "data": {
      "text/plain": [
       "0    118709\n",
       "1     12502\n",
       "Name: comp_invest, dtype: int64"
      ]
     },
     "execution_count": 27,
     "metadata": {},
     "output_type": "execute_result"
    }
   ],
   "source": [
    "df.comp_invest.value_counts()"
   ]
  },
  {
   "cell_type": "code",
   "execution_count": 28,
   "metadata": {},
   "outputs": [
    {
     "data": {
      "text/plain": [
       "0    78665\n",
       "1    18657\n",
       "2    11498\n",
       "3     5696\n",
       "4     4103\n",
       "Name: Cnt_Derivative, dtype: int64"
      ]
     },
     "execution_count": 28,
     "metadata": {},
     "output_type": "execute_result"
    }
   ],
   "source": [
    "df.Cnt_Derivative.value_counts().head()"
   ]
  },
  {
   "cell_type": "code",
   "execution_count": 30,
   "metadata": {},
   "outputs": [
    {
     "data": {
      "text/plain": [
       "count    131211.000000\n",
       "mean          1.315804\n",
       "std           2.539269\n",
       "min           0.000000\n",
       "25%           0.000000\n",
       "50%           0.000000\n",
       "75%           2.000000\n",
       "max          31.000000\n",
       "Name: Cnt_Derivative, dtype: float64"
      ]
     },
     "execution_count": 30,
     "metadata": {},
     "output_type": "execute_result"
    }
   ],
   "source": [
    "df.Cnt_Derivative.describe()"
   ]
  },
  {
   "cell_type": "code",
   "execution_count": 31,
   "metadata": {},
   "outputs": [
    {
     "data": {
      "text/html": [
       "<div>\n",
       "<style scoped>\n",
       "    .dataframe tbody tr th:only-of-type {\n",
       "        vertical-align: middle;\n",
       "    }\n",
       "\n",
       "    .dataframe tbody tr th {\n",
       "        vertical-align: top;\n",
       "    }\n",
       "\n",
       "    .dataframe thead th {\n",
       "        text-align: right;\n",
       "    }\n",
       "</style>\n",
       "<table border=\"1\" class=\"dataframe\">\n",
       "  <thead>\n",
       "    <tr style=\"text-align: right;\">\n",
       "      <th></th>\n",
       "      <th>Unnamed: 0</th>\n",
       "      <th>filing_date</th>\n",
       "      <th>fund_CIK</th>\n",
       "      <th>principal_strategies</th>\n",
       "      <th>comp_money</th>\n",
       "      <th>comp_invest</th>\n",
       "      <th>Cnt_Derivative</th>\n",
       "    </tr>\n",
       "  </thead>\n",
       "  <tbody>\n",
       "    <tr>\n",
       "      <th>0</th>\n",
       "      <td>0001318148-10-001804</td>\n",
       "      <td>20101124</td>\n",
       "      <td>879569</td>\n",
       "      <td>?the fund pursues its objective by investing i...</td>\n",
       "      <td>0</td>\n",
       "      <td>0</td>\n",
       "      <td>1</td>\n",
       "    </tr>\n",
       "    <tr>\n",
       "      <th>1</th>\n",
       "      <td>0000356682-10-000007</td>\n",
       "      <td>20100201</td>\n",
       "      <td>356682</td>\n",
       "      <td>the fund is a \"fund of funds\" that seeks to ...</td>\n",
       "      <td>0</td>\n",
       "      <td>0</td>\n",
       "      <td>0</td>\n",
       "    </tr>\n",
       "    <tr>\n",
       "      <th>2</th>\n",
       "      <td>0001193125-10-282324</td>\n",
       "      <td>20101216</td>\n",
       "      <td>1174610</td>\n",
       "      <td>the fund invests in derivatives that proshar...</td>\n",
       "      <td>1</td>\n",
       "      <td>1</td>\n",
       "      <td>10</td>\n",
       "    </tr>\n",
       "    <tr>\n",
       "      <th>3</th>\n",
       "      <td>0001398344-10-000552</td>\n",
       "      <td>20100430</td>\n",
       "      <td>890453</td>\n",
       "      <td>...</td>\n",
       "      <td>0</td>\n",
       "      <td>0</td>\n",
       "      <td>0</td>\n",
       "    </tr>\n",
       "    <tr>\n",
       "      <th>4</th>\n",
       "      <td>0000950123-10-065147</td>\n",
       "      <td>20100713</td>\n",
       "      <td>1424958</td>\n",
       "      <td>the fund, under normal circumstances...</td>\n",
       "      <td>0</td>\n",
       "      <td>0</td>\n",
       "      <td>0</td>\n",
       "    </tr>\n",
       "  </tbody>\n",
       "</table>\n",
       "</div>"
      ],
      "text/plain": [
       "             Unnamed: 0  filing_date  fund_CIK  \\\n",
       "0  0001318148-10-001804     20101124    879569   \n",
       "1  0000356682-10-000007     20100201    356682   \n",
       "2  0001193125-10-282324     20101216   1174610   \n",
       "3  0001398344-10-000552     20100430    890453   \n",
       "4  0000950123-10-065147     20100713   1424958   \n",
       "\n",
       "                                principal_strategies  comp_money  comp_invest  \\\n",
       "0  ?the fund pursues its objective by investing i...           0            0   \n",
       "1    the fund is a \"fund of funds\" that seeks to ...           0            0   \n",
       "2    the fund invests in derivatives that proshar...           1            1   \n",
       "3                                                ...           0            0   \n",
       "4            the fund, under normal circumstances...           0            0   \n",
       "\n",
       "   Cnt_Derivative  \n",
       "0               1  \n",
       "1               0  \n",
       "2              10  \n",
       "3               0  \n",
       "4               0  "
      ]
     },
     "execution_count": 31,
     "metadata": {},
     "output_type": "execute_result"
    }
   ],
   "source": [
    "final.head()"
   ]
  },
  {
   "cell_type": "code",
   "execution_count": 32,
   "metadata": {},
   "outputs": [],
   "source": [
    "final['Compliance']=final['comp_money']+final['comp_invest']"
   ]
  },
  {
   "cell_type": "code",
   "execution_count": 33,
   "metadata": {},
   "outputs": [
    {
     "data": {
      "text/plain": [
       "0    111857\n",
       "2     12092\n",
       "1      7321\n",
       "Name: Compliance, dtype: int64"
      ]
     },
     "execution_count": 33,
     "metadata": {},
     "output_type": "execute_result"
    }
   ],
   "source": [
    "final.Compliance.value_counts()"
   ]
  },
  {
   "cell_type": "code",
   "execution_count": 34,
   "metadata": {},
   "outputs": [
    {
     "data": {
      "text/plain": [
       "19413"
      ]
     },
     "execution_count": 34,
     "metadata": {},
     "output_type": "execute_result"
    }
   ],
   "source": [
    "7321+12092"
   ]
  },
  {
   "cell_type": "code",
   "execution_count": 35,
   "metadata": {},
   "outputs": [
    {
     "data": {
      "text/plain": [
       "(131270, 8)"
      ]
     },
     "execution_count": 35,
     "metadata": {},
     "output_type": "execute_result"
    }
   ],
   "source": [
    "final.shape"
   ]
  },
  {
   "cell_type": "code",
   "execution_count": 36,
   "metadata": {},
   "outputs": [
    {
     "data": {
      "text/plain": [
       "0.1478860364134989"
      ]
     },
     "execution_count": 36,
     "metadata": {},
     "output_type": "execute_result"
    }
   ],
   "source": [
    "19413/131270"
   ]
  },
  {
   "cell_type": "code",
   "execution_count": null,
   "metadata": {},
   "outputs": [],
   "source": []
  }
 ],
 "metadata": {
  "kernelspec": {
   "display_name": "Python 3",
   "language": "python",
   "name": "python3"
  },
  "language_info": {
   "codemirror_mode": {
    "name": "ipython",
    "version": 3
   },
   "file_extension": ".py",
   "mimetype": "text/x-python",
   "name": "python",
   "nbconvert_exporter": "python",
   "pygments_lexer": "ipython3",
   "version": "3.6.6"
  }
 },
 "nbformat": 4,
 "nbformat_minor": 2
}
