{
 "cells": [
  {
   "cell_type": "code",
   "execution_count": 1,
   "metadata": {},
   "outputs": [],
   "source": [
    "import tweepy\n",
    "import csv\n",
    "import time\n",
    "import html.parser as hp\n",
    "import pandas as pd\n",
    "import nltk\n",
    "import pickle\n",
    "import numpy as np\n",
    "import gensim\n",
    "import re  # regular expressions (for playing with the text)\n",
    "from gensim.parsing.preprocessing import STOPWORDS # common english \"stop words\" -- a, the, etc.\n",
    "from gensim.parsing import PorterStemmer\n",
    "from gensim import corpora, models\n",
    "import nltk.data\n",
    "import nltk\n",
    "\n",
    "from sklearn.decomposition import LatentDirichletAllocation, TruncatedSVD\n",
    "from sklearn.feature_extraction.text import CountVectorizer, TfidfVectorizer\n",
    "from sklearn.model_selection import GridSearchCV\n",
    "from pprint import pprint\n",
    "\n",
    "import pyLDAvis\n",
    "import pyLDAvis.sklearn\n",
    "import matplotlib.pyplot as plt\n",
    "%matplotlib inline\n",
    "import spacy\n",
    "\n",
    "from nltk.tokenize import RegexpTokenizer\n",
    "from gensim import corpora, models\n",
    "import gensim\n",
    "import os\n",
    "from os import path\n",
    "from time import sleep\n",
    "import matplotlib.pyplot as plt\n",
    "import random\n",
    "import wordcloud\n",
    "from wordcloud import WordCloud , STOPWORDS\n",
    "\n",
    "import re\n",
    "import pickle\n",
    "import gensim\n",
    "from gensim.models import Word2Vec\n",
    "from sklearn.decomposition import PCA\n",
    "import matplotlib.pyplot as plt\n",
    "%matplotlib inline\n",
    "\n",
    "import warnings\n",
    "warnings.filterwarnings(\"ignore\")\n",
    "\n",
    "import string\n"
   ]
  },
  {
   "cell_type": "code",
   "execution_count": 2,
   "metadata": {},
   "outputs": [],
   "source": [
    "final=pd.read_excel('Risk2010 -2018.xlsx')"
   ]
  },
  {
   "cell_type": "code",
   "execution_count": 3,
   "metadata": {},
   "outputs": [
    {
     "data": {
      "text/plain": [
       "(131270, 5)"
      ]
     },
     "execution_count": 3,
     "metadata": {},
     "output_type": "execute_result"
    }
   ],
   "source": [
    "final.shape"
   ]
  },
  {
   "cell_type": "code",
   "execution_count": 4,
   "metadata": {},
   "outputs": [
    {
     "data": {
      "text/html": [
       "<div>\n",
       "<style scoped>\n",
       "    .dataframe tbody tr th:only-of-type {\n",
       "        vertical-align: middle;\n",
       "    }\n",
       "\n",
       "    .dataframe tbody tr th {\n",
       "        vertical-align: top;\n",
       "    }\n",
       "\n",
       "    .dataframe thead th {\n",
       "        text-align: right;\n",
       "    }\n",
       "</style>\n",
       "<table border=\"1\" class=\"dataframe\">\n",
       "  <thead>\n",
       "    <tr style=\"text-align: right;\">\n",
       "      <th></th>\n",
       "      <th>Unnamed: 0</th>\n",
       "      <th>filing_date</th>\n",
       "      <th>fund_CIK</th>\n",
       "      <th>principal_risks</th>\n",
       "      <th>Unnamed: 4</th>\n",
       "    </tr>\n",
       "  </thead>\n",
       "  <tbody>\n",
       "    <tr>\n",
       "      <th>0</th>\n",
       "      <td>0001318148-10-001804</td>\n",
       "      <td>20101124</td>\n",
       "      <td>879569</td>\n",
       "      <td>of investing in the fund?all mutual funds tak...</td>\n",
       "      <td>NaN</td>\n",
       "    </tr>\n",
       "    <tr>\n",
       "      <th>1</th>\n",
       "      <td>0000356682-10-000007</td>\n",
       "      <td>20100201</td>\n",
       "      <td>356682</td>\n",
       "      <td>you could lose money on your investment in t...</td>\n",
       "      <td>NaN</td>\n",
       "    </tr>\n",
       "    <tr>\n",
       "      <th>2</th>\n",
       "      <td>0001193125-10-282324</td>\n",
       "      <td>20101216</td>\n",
       "      <td>1174610</td>\n",
       "      <td>of leveraged and inverse leveraged funds and ...</td>\n",
       "      <td>NaN</td>\n",
       "    </tr>\n",
       "    <tr>\n",
       "      <th>3</th>\n",
       "      <td>0001398344-10-000552</td>\n",
       "      <td>20100430</td>\n",
       "      <td>890453</td>\n",
       "      <td>you may lose money by investing in t...</td>\n",
       "      <td>NaN</td>\n",
       "    </tr>\n",
       "    <tr>\n",
       "      <th>4</th>\n",
       "      <td>0000950123-10-065147</td>\n",
       "      <td>20100713</td>\n",
       "      <td>1424958</td>\n",
       "      <td>an investment in the fund entails ri...</td>\n",
       "      <td>NaN</td>\n",
       "    </tr>\n",
       "  </tbody>\n",
       "</table>\n",
       "</div>"
      ],
      "text/plain": [
       "             Unnamed: 0  filing_date  fund_CIK  \\\n",
       "0  0001318148-10-001804     20101124    879569   \n",
       "1  0000356682-10-000007     20100201    356682   \n",
       "2  0001193125-10-282324     20101216   1174610   \n",
       "3  0001398344-10-000552     20100430    890453   \n",
       "4  0000950123-10-065147     20100713   1424958   \n",
       "\n",
       "                                     principal_risks Unnamed: 4  \n",
       "0   of investing in the fund?all mutual funds tak...        NaN  \n",
       "1    you could lose money on your investment in t...        NaN  \n",
       "2   of leveraged and inverse leveraged funds and ...        NaN  \n",
       "3            you may lose money by investing in t...        NaN  \n",
       "4            an investment in the fund entails ri...        NaN  "
      ]
     },
     "execution_count": 4,
     "metadata": {},
     "output_type": "execute_result"
    }
   ],
   "source": [
    "final.head()"
   ]
  },
  {
   "cell_type": "code",
   "execution_count": 5,
   "metadata": {},
   "outputs": [],
   "source": [
    "final.rename(columns={\"Unnamed: 4\": \"col2\"}, inplace=True)"
   ]
  },
  {
   "cell_type": "code",
   "execution_count": 6,
   "metadata": {},
   "outputs": [
    {
     "data": {
      "text/html": [
       "<div>\n",
       "<style scoped>\n",
       "    .dataframe tbody tr th:only-of-type {\n",
       "        vertical-align: middle;\n",
       "    }\n",
       "\n",
       "    .dataframe tbody tr th {\n",
       "        vertical-align: top;\n",
       "    }\n",
       "\n",
       "    .dataframe thead th {\n",
       "        text-align: right;\n",
       "    }\n",
       "</style>\n",
       "<table border=\"1\" class=\"dataframe\">\n",
       "  <thead>\n",
       "    <tr style=\"text-align: right;\">\n",
       "      <th></th>\n",
       "      <th>Unnamed: 0</th>\n",
       "      <th>filing_date</th>\n",
       "      <th>fund_CIK</th>\n",
       "      <th>principal_risks</th>\n",
       "      <th>col2</th>\n",
       "    </tr>\n",
       "  </thead>\n",
       "  <tbody>\n",
       "    <tr>\n",
       "      <th>0</th>\n",
       "      <td>0001318148-10-001804</td>\n",
       "      <td>20101124</td>\n",
       "      <td>879569</td>\n",
       "      <td>of investing in the fund?all mutual funds tak...</td>\n",
       "      <td>NaN</td>\n",
       "    </tr>\n",
       "    <tr>\n",
       "      <th>1</th>\n",
       "      <td>0000356682-10-000007</td>\n",
       "      <td>20100201</td>\n",
       "      <td>356682</td>\n",
       "      <td>you could lose money on your investment in t...</td>\n",
       "      <td>NaN</td>\n",
       "    </tr>\n",
       "    <tr>\n",
       "      <th>2</th>\n",
       "      <td>0001193125-10-282324</td>\n",
       "      <td>20101216</td>\n",
       "      <td>1174610</td>\n",
       "      <td>of leveraged and inverse leveraged funds and ...</td>\n",
       "      <td>NaN</td>\n",
       "    </tr>\n",
       "    <tr>\n",
       "      <th>3</th>\n",
       "      <td>0001398344-10-000552</td>\n",
       "      <td>20100430</td>\n",
       "      <td>890453</td>\n",
       "      <td>you may lose money by investing in t...</td>\n",
       "      <td>NaN</td>\n",
       "    </tr>\n",
       "    <tr>\n",
       "      <th>4</th>\n",
       "      <td>0000950123-10-065147</td>\n",
       "      <td>20100713</td>\n",
       "      <td>1424958</td>\n",
       "      <td>an investment in the fund entails ri...</td>\n",
       "      <td>NaN</td>\n",
       "    </tr>\n",
       "  </tbody>\n",
       "</table>\n",
       "</div>"
      ],
      "text/plain": [
       "             Unnamed: 0  filing_date  fund_CIK  \\\n",
       "0  0001318148-10-001804     20101124    879569   \n",
       "1  0000356682-10-000007     20100201    356682   \n",
       "2  0001193125-10-282324     20101216   1174610   \n",
       "3  0001398344-10-000552     20100430    890453   \n",
       "4  0000950123-10-065147     20100713   1424958   \n",
       "\n",
       "                                     principal_risks col2  \n",
       "0   of investing in the fund?all mutual funds tak...  NaN  \n",
       "1    you could lose money on your investment in t...  NaN  \n",
       "2   of leveraged and inverse leveraged funds and ...  NaN  \n",
       "3            you may lose money by investing in t...  NaN  \n",
       "4            an investment in the fund entails ri...  NaN  "
      ]
     },
     "execution_count": 6,
     "metadata": {},
     "output_type": "execute_result"
    }
   ],
   "source": [
    "final.head()"
   ]
  },
  {
   "cell_type": "code",
   "execution_count": 7,
   "metadata": {},
   "outputs": [
    {
     "data": {
      "text/plain": [
       "115198"
      ]
     },
     "execution_count": 7,
     "metadata": {},
     "output_type": "execute_result"
    }
   ],
   "source": [
    "final.col2.isna().sum()"
   ]
  },
  {
   "cell_type": "code",
   "execution_count": 8,
   "metadata": {},
   "outputs": [],
   "source": [
    "final.replace(np.nan, '', regex=True,inplace=True)"
   ]
  },
  {
   "cell_type": "code",
   "execution_count": 9,
   "metadata": {},
   "outputs": [
    {
     "data": {
      "text/html": [
       "<div>\n",
       "<style scoped>\n",
       "    .dataframe tbody tr th:only-of-type {\n",
       "        vertical-align: middle;\n",
       "    }\n",
       "\n",
       "    .dataframe tbody tr th {\n",
       "        vertical-align: top;\n",
       "    }\n",
       "\n",
       "    .dataframe thead th {\n",
       "        text-align: right;\n",
       "    }\n",
       "</style>\n",
       "<table border=\"1\" class=\"dataframe\">\n",
       "  <thead>\n",
       "    <tr style=\"text-align: right;\">\n",
       "      <th></th>\n",
       "      <th>Unnamed: 0</th>\n",
       "      <th>filing_date</th>\n",
       "      <th>fund_CIK</th>\n",
       "      <th>principal_risks</th>\n",
       "      <th>col2</th>\n",
       "    </tr>\n",
       "  </thead>\n",
       "  <tbody>\n",
       "    <tr>\n",
       "      <th>0</th>\n",
       "      <td>0001318148-10-001804</td>\n",
       "      <td>20101124</td>\n",
       "      <td>879569</td>\n",
       "      <td>of investing in the fund?all mutual funds tak...</td>\n",
       "      <td></td>\n",
       "    </tr>\n",
       "    <tr>\n",
       "      <th>1</th>\n",
       "      <td>0000356682-10-000007</td>\n",
       "      <td>20100201</td>\n",
       "      <td>356682</td>\n",
       "      <td>you could lose money on your investment in t...</td>\n",
       "      <td></td>\n",
       "    </tr>\n",
       "    <tr>\n",
       "      <th>2</th>\n",
       "      <td>0001193125-10-282324</td>\n",
       "      <td>20101216</td>\n",
       "      <td>1174610</td>\n",
       "      <td>of leveraged and inverse leveraged funds and ...</td>\n",
       "      <td></td>\n",
       "    </tr>\n",
       "    <tr>\n",
       "      <th>3</th>\n",
       "      <td>0001398344-10-000552</td>\n",
       "      <td>20100430</td>\n",
       "      <td>890453</td>\n",
       "      <td>you may lose money by investing in t...</td>\n",
       "      <td></td>\n",
       "    </tr>\n",
       "    <tr>\n",
       "      <th>4</th>\n",
       "      <td>0000950123-10-065147</td>\n",
       "      <td>20100713</td>\n",
       "      <td>1424958</td>\n",
       "      <td>an investment in the fund entails ri...</td>\n",
       "      <td></td>\n",
       "    </tr>\n",
       "  </tbody>\n",
       "</table>\n",
       "</div>"
      ],
      "text/plain": [
       "             Unnamed: 0  filing_date  fund_CIK  \\\n",
       "0  0001318148-10-001804     20101124    879569   \n",
       "1  0000356682-10-000007     20100201    356682   \n",
       "2  0001193125-10-282324     20101216   1174610   \n",
       "3  0001398344-10-000552     20100430    890453   \n",
       "4  0000950123-10-065147     20100713   1424958   \n",
       "\n",
       "                                     principal_risks col2  \n",
       "0   of investing in the fund?all mutual funds tak...       \n",
       "1    you could lose money on your investment in t...       \n",
       "2   of leveraged and inverse leveraged funds and ...       \n",
       "3            you may lose money by investing in t...       \n",
       "4            an investment in the fund entails ri...       "
      ]
     },
     "execution_count": 9,
     "metadata": {},
     "output_type": "execute_result"
    }
   ],
   "source": [
    "final.head()"
   ]
  },
  {
   "cell_type": "code",
   "execution_count": 10,
   "metadata": {},
   "outputs": [],
   "source": [
    "#final['Text']=final.principal_risks+\" \"+final.col2\n",
    "final['Text'] = final['principal_risks'].str.cat(final['col2'],sep=\" \")"
   ]
  },
  {
   "cell_type": "code",
   "execution_count": 11,
   "metadata": {},
   "outputs": [
    {
     "data": {
      "text/html": [
       "<div>\n",
       "<style scoped>\n",
       "    .dataframe tbody tr th:only-of-type {\n",
       "        vertical-align: middle;\n",
       "    }\n",
       "\n",
       "    .dataframe tbody tr th {\n",
       "        vertical-align: top;\n",
       "    }\n",
       "\n",
       "    .dataframe thead th {\n",
       "        text-align: right;\n",
       "    }\n",
       "</style>\n",
       "<table border=\"1\" class=\"dataframe\">\n",
       "  <thead>\n",
       "    <tr style=\"text-align: right;\">\n",
       "      <th></th>\n",
       "      <th>Unnamed: 0</th>\n",
       "      <th>filing_date</th>\n",
       "      <th>fund_CIK</th>\n",
       "      <th>principal_risks</th>\n",
       "      <th>col2</th>\n",
       "      <th>Text</th>\n",
       "    </tr>\n",
       "  </thead>\n",
       "  <tbody>\n",
       "    <tr>\n",
       "      <th>0</th>\n",
       "      <td>0001318148-10-001804</td>\n",
       "      <td>20101124</td>\n",
       "      <td>879569</td>\n",
       "      <td>of investing in the fund?all mutual funds tak...</td>\n",
       "      <td></td>\n",
       "      <td>of investing in the fund?all mutual funds tak...</td>\n",
       "    </tr>\n",
       "    <tr>\n",
       "      <th>1</th>\n",
       "      <td>0000356682-10-000007</td>\n",
       "      <td>20100201</td>\n",
       "      <td>356682</td>\n",
       "      <td>you could lose money on your investment in t...</td>\n",
       "      <td></td>\n",
       "      <td>you could lose money on your investment in t...</td>\n",
       "    </tr>\n",
       "    <tr>\n",
       "      <th>2</th>\n",
       "      <td>0001193125-10-282324</td>\n",
       "      <td>20101216</td>\n",
       "      <td>1174610</td>\n",
       "      <td>of leveraged and inverse leveraged funds and ...</td>\n",
       "      <td></td>\n",
       "      <td>of leveraged and inverse leveraged funds and ...</td>\n",
       "    </tr>\n",
       "    <tr>\n",
       "      <th>3</th>\n",
       "      <td>0001398344-10-000552</td>\n",
       "      <td>20100430</td>\n",
       "      <td>890453</td>\n",
       "      <td>you may lose money by investing in t...</td>\n",
       "      <td></td>\n",
       "      <td>you may lose money by investing in t...</td>\n",
       "    </tr>\n",
       "    <tr>\n",
       "      <th>4</th>\n",
       "      <td>0000950123-10-065147</td>\n",
       "      <td>20100713</td>\n",
       "      <td>1424958</td>\n",
       "      <td>an investment in the fund entails ri...</td>\n",
       "      <td></td>\n",
       "      <td>an investment in the fund entails ri...</td>\n",
       "    </tr>\n",
       "  </tbody>\n",
       "</table>\n",
       "</div>"
      ],
      "text/plain": [
       "             Unnamed: 0  filing_date  fund_CIK  \\\n",
       "0  0001318148-10-001804     20101124    879569   \n",
       "1  0000356682-10-000007     20100201    356682   \n",
       "2  0001193125-10-282324     20101216   1174610   \n",
       "3  0001398344-10-000552     20100430    890453   \n",
       "4  0000950123-10-065147     20100713   1424958   \n",
       "\n",
       "                                     principal_risks col2  \\\n",
       "0   of investing in the fund?all mutual funds tak...        \n",
       "1    you could lose money on your investment in t...        \n",
       "2   of leveraged and inverse leveraged funds and ...        \n",
       "3            you may lose money by investing in t...        \n",
       "4            an investment in the fund entails ri...        \n",
       "\n",
       "                                                Text  \n",
       "0   of investing in the fund?all mutual funds tak...  \n",
       "1    you could lose money on your investment in t...  \n",
       "2   of leveraged and inverse leveraged funds and ...  \n",
       "3            you may lose money by investing in t...  \n",
       "4            an investment in the fund entails ri...  "
      ]
     },
     "execution_count": 11,
     "metadata": {},
     "output_type": "execute_result"
    }
   ],
   "source": [
    "final.head()"
   ]
  },
  {
   "cell_type": "code",
   "execution_count": 12,
   "metadata": {},
   "outputs": [],
   "source": [
    "mylist=['lose','losing','lost','loses','loss']\n",
    "value_list=[]\n",
    "for row in final['Text']:\n",
    "    before_one_word=[]\n",
    "    before_two_word=[]\n",
    "    before_words=[]\n",
    "    row=row.translate(str.maketrans('', '', string.punctuation))\n",
    "    words = row.lower().split()\n",
    "    t = [i for i, x in enumerate(words) if x == \"money\"]\n",
    "    for d in t:\n",
    "        before_one_word.append(words[d-1])\n",
    "        before_two_word.append(words[d-2])\n",
    "    before_words=before_one_word+before_two_word\n",
    "    if len([i for i in mylist if i in before_words])>0:\n",
    "        value_list.append(1)\n",
    "    else:\n",
    "        value_list.append(0)\n",
    "        #if ('lose' == (words[d-1]) or 'lose' == words[d-2]) or ('losing' == (words[d-1]) or 'losing' == (words[d-2])) or ('lost' == (words[d-1]) or 'lost' == (words[d-2])) or ('loses' == (words[d-1]) or 'loses' == (words[d-2])):\n",
    "#             val=1\n",
    "            #value_list.append(1)\n",
    "#         else:\n",
    "#             val=0\n",
    "# #             #value_list.append(0)\n",
    "#     value_list.append(val)"
   ]
  },
  {
   "cell_type": "code",
   "execution_count": 13,
   "metadata": {},
   "outputs": [],
   "source": [
    "final['comp_money']=''"
   ]
  },
  {
   "cell_type": "code",
   "execution_count": 14,
   "metadata": {},
   "outputs": [],
   "source": [
    "final['comp_money']=value_list"
   ]
  },
  {
   "cell_type": "code",
   "execution_count": 15,
   "metadata": {},
   "outputs": [
    {
     "data": {
      "text/html": [
       "<div>\n",
       "<style scoped>\n",
       "    .dataframe tbody tr th:only-of-type {\n",
       "        vertical-align: middle;\n",
       "    }\n",
       "\n",
       "    .dataframe tbody tr th {\n",
       "        vertical-align: top;\n",
       "    }\n",
       "\n",
       "    .dataframe thead th {\n",
       "        text-align: right;\n",
       "    }\n",
       "</style>\n",
       "<table border=\"1\" class=\"dataframe\">\n",
       "  <thead>\n",
       "    <tr style=\"text-align: right;\">\n",
       "      <th></th>\n",
       "      <th>Unnamed: 0</th>\n",
       "      <th>filing_date</th>\n",
       "      <th>fund_CIK</th>\n",
       "      <th>principal_risks</th>\n",
       "      <th>col2</th>\n",
       "      <th>Text</th>\n",
       "      <th>comp_money</th>\n",
       "    </tr>\n",
       "  </thead>\n",
       "  <tbody>\n",
       "    <tr>\n",
       "      <th>0</th>\n",
       "      <td>0001318148-10-001804</td>\n",
       "      <td>20101124</td>\n",
       "      <td>879569</td>\n",
       "      <td>of investing in the fund?all mutual funds tak...</td>\n",
       "      <td></td>\n",
       "      <td>of investing in the fund?all mutual funds tak...</td>\n",
       "      <td>1</td>\n",
       "    </tr>\n",
       "    <tr>\n",
       "      <th>1</th>\n",
       "      <td>0000356682-10-000007</td>\n",
       "      <td>20100201</td>\n",
       "      <td>356682</td>\n",
       "      <td>you could lose money on your investment in t...</td>\n",
       "      <td></td>\n",
       "      <td>you could lose money on your investment in t...</td>\n",
       "      <td>1</td>\n",
       "    </tr>\n",
       "    <tr>\n",
       "      <th>2</th>\n",
       "      <td>0001193125-10-282324</td>\n",
       "      <td>20101216</td>\n",
       "      <td>1174610</td>\n",
       "      <td>of leveraged and inverse leveraged funds and ...</td>\n",
       "      <td></td>\n",
       "      <td>of leveraged and inverse leveraged funds and ...</td>\n",
       "      <td>1</td>\n",
       "    </tr>\n",
       "    <tr>\n",
       "      <th>3</th>\n",
       "      <td>0001398344-10-000552</td>\n",
       "      <td>20100430</td>\n",
       "      <td>890453</td>\n",
       "      <td>you may lose money by investing in t...</td>\n",
       "      <td></td>\n",
       "      <td>you may lose money by investing in t...</td>\n",
       "      <td>1</td>\n",
       "    </tr>\n",
       "    <tr>\n",
       "      <th>4</th>\n",
       "      <td>0000950123-10-065147</td>\n",
       "      <td>20100713</td>\n",
       "      <td>1424958</td>\n",
       "      <td>an investment in the fund entails ri...</td>\n",
       "      <td></td>\n",
       "      <td>an investment in the fund entails ri...</td>\n",
       "      <td>1</td>\n",
       "    </tr>\n",
       "  </tbody>\n",
       "</table>\n",
       "</div>"
      ],
      "text/plain": [
       "             Unnamed: 0  filing_date  fund_CIK  \\\n",
       "0  0001318148-10-001804     20101124    879569   \n",
       "1  0000356682-10-000007     20100201    356682   \n",
       "2  0001193125-10-282324     20101216   1174610   \n",
       "3  0001398344-10-000552     20100430    890453   \n",
       "4  0000950123-10-065147     20100713   1424958   \n",
       "\n",
       "                                     principal_risks col2  \\\n",
       "0   of investing in the fund?all mutual funds tak...        \n",
       "1    you could lose money on your investment in t...        \n",
       "2   of leveraged and inverse leveraged funds and ...        \n",
       "3            you may lose money by investing in t...        \n",
       "4            an investment in the fund entails ri...        \n",
       "\n",
       "                                                Text  comp_money  \n",
       "0   of investing in the fund?all mutual funds tak...           1  \n",
       "1    you could lose money on your investment in t...           1  \n",
       "2   of leveraged and inverse leveraged funds and ...           1  \n",
       "3            you may lose money by investing in t...           1  \n",
       "4            an investment in the fund entails ri...           1  "
      ]
     },
     "execution_count": 15,
     "metadata": {},
     "output_type": "execute_result"
    }
   ],
   "source": [
    "final.head()"
   ]
  },
  {
   "cell_type": "code",
   "execution_count": 37,
   "metadata": {},
   "outputs": [
    {
     "data": {
      "text/plain": [
       "1    121467\n",
       "0      9803\n",
       "Name: comp_money, dtype: int64"
      ]
     },
     "execution_count": 37,
     "metadata": {},
     "output_type": "execute_result"
    }
   ],
   "source": [
    "final.comp_money.value_counts()"
   ]
  },
  {
   "cell_type": "code",
   "execution_count": 38,
   "metadata": {},
   "outputs": [],
   "source": [
    "mylist=['lose','losing','lost','loses','loss']\n",
    "value_list=[]\n",
    "for row in final['Text']:\n",
    "    before_one_word=[]\n",
    "    before_two_word=[]\n",
    "    before_three_word=[]\n",
    "    before_four_word=[]\n",
    "    before_five_word=[]\n",
    "    before_words=[]\n",
    "    row=row.translate(str.maketrans('', '', string.punctuation))\n",
    "    words = row.lower().split()\n",
    "    t = [i for i, x in enumerate(words) if (x == \"investment\" or x==\"investing\" or x == \"investments\")]\n",
    "    for d in t:\n",
    "        before_one_word.append(words[d-1])\n",
    "        before_two_word.append(words[d-2])\n",
    "        if d >=1:\n",
    "            before_three_word.append(words[d-3])\n",
    "            before_four_word.append(words[d-4])\n",
    "            before_five_word.append(words[d-5])\n",
    "    before_words=before_one_word+before_two_word+before_three_word+before_four_word+before_five_word\n",
    "    if len([i for i in mylist if i in before_words])>0:\n",
    "        value_list.append(1)\n",
    "    else:\n",
    "        value_list.append(0)\n",
    "        #if ('lose' == (words[d-1]) or 'lose' == words[d-2]) or ('losing' == (words[d-1]) or 'losing' == (words[d-2])) or ('lost' == (words[d-1]) or 'lost' == (words[d-2])) or ('loses' == (words[d-1]) or 'loses' == (words[d-2])):\n",
    "#             val=1\n",
    "            #value_list.append(1)\n",
    "#         else:\n",
    "#             val=0\n",
    "# #             #value_list.append(0)\n",
    "#     value_list.append(val)"
   ]
  },
  {
   "cell_type": "code",
   "execution_count": 39,
   "metadata": {},
   "outputs": [],
   "source": [
    "final['comp_invest']=''"
   ]
  },
  {
   "cell_type": "code",
   "execution_count": 40,
   "metadata": {},
   "outputs": [],
   "source": [
    "final['comp_invest']=value_list"
   ]
  },
  {
   "cell_type": "code",
   "execution_count": 41,
   "metadata": {},
   "outputs": [
    {
     "data": {
      "text/html": [
       "<div>\n",
       "<style scoped>\n",
       "    .dataframe tbody tr th:only-of-type {\n",
       "        vertical-align: middle;\n",
       "    }\n",
       "\n",
       "    .dataframe tbody tr th {\n",
       "        vertical-align: top;\n",
       "    }\n",
       "\n",
       "    .dataframe thead th {\n",
       "        text-align: right;\n",
       "    }\n",
       "</style>\n",
       "<table border=\"1\" class=\"dataframe\">\n",
       "  <thead>\n",
       "    <tr style=\"text-align: right;\">\n",
       "      <th></th>\n",
       "      <th>Unnamed: 0</th>\n",
       "      <th>filing_date</th>\n",
       "      <th>fund_CIK</th>\n",
       "      <th>principal_risks</th>\n",
       "      <th>col2</th>\n",
       "      <th>Text</th>\n",
       "      <th>comp_money</th>\n",
       "      <th>comp_invest</th>\n",
       "    </tr>\n",
       "  </thead>\n",
       "  <tbody>\n",
       "    <tr>\n",
       "      <th>0</th>\n",
       "      <td>0001318148-10-001804</td>\n",
       "      <td>20101124</td>\n",
       "      <td>879569</td>\n",
       "      <td>of investing in the fund?all mutual funds tak...</td>\n",
       "      <td></td>\n",
       "      <td>of investing in the fund?all mutual funds tak...</td>\n",
       "      <td>1</td>\n",
       "      <td>1</td>\n",
       "    </tr>\n",
       "    <tr>\n",
       "      <th>1</th>\n",
       "      <td>0000356682-10-000007</td>\n",
       "      <td>20100201</td>\n",
       "      <td>356682</td>\n",
       "      <td>you could lose money on your investment in t...</td>\n",
       "      <td></td>\n",
       "      <td>you could lose money on your investment in t...</td>\n",
       "      <td>1</td>\n",
       "      <td>1</td>\n",
       "    </tr>\n",
       "    <tr>\n",
       "      <th>2</th>\n",
       "      <td>0001193125-10-282324</td>\n",
       "      <td>20101216</td>\n",
       "      <td>1174610</td>\n",
       "      <td>of leveraged and inverse leveraged funds and ...</td>\n",
       "      <td></td>\n",
       "      <td>of leveraged and inverse leveraged funds and ...</td>\n",
       "      <td>1</td>\n",
       "      <td>0</td>\n",
       "    </tr>\n",
       "    <tr>\n",
       "      <th>3</th>\n",
       "      <td>0001398344-10-000552</td>\n",
       "      <td>20100430</td>\n",
       "      <td>890453</td>\n",
       "      <td>you may lose money by investing in t...</td>\n",
       "      <td></td>\n",
       "      <td>you may lose money by investing in t...</td>\n",
       "      <td>1</td>\n",
       "      <td>1</td>\n",
       "    </tr>\n",
       "    <tr>\n",
       "      <th>4</th>\n",
       "      <td>0000950123-10-065147</td>\n",
       "      <td>20100713</td>\n",
       "      <td>1424958</td>\n",
       "      <td>an investment in the fund entails ri...</td>\n",
       "      <td></td>\n",
       "      <td>an investment in the fund entails ri...</td>\n",
       "      <td>1</td>\n",
       "      <td>0</td>\n",
       "    </tr>\n",
       "  </tbody>\n",
       "</table>\n",
       "</div>"
      ],
      "text/plain": [
       "             Unnamed: 0  filing_date  fund_CIK  \\\n",
       "0  0001318148-10-001804     20101124    879569   \n",
       "1  0000356682-10-000007     20100201    356682   \n",
       "2  0001193125-10-282324     20101216   1174610   \n",
       "3  0001398344-10-000552     20100430    890453   \n",
       "4  0000950123-10-065147     20100713   1424958   \n",
       "\n",
       "                                     principal_risks col2  \\\n",
       "0   of investing in the fund?all mutual funds tak...        \n",
       "1    you could lose money on your investment in t...        \n",
       "2   of leveraged and inverse leveraged funds and ...        \n",
       "3            you may lose money by investing in t...        \n",
       "4            an investment in the fund entails ri...        \n",
       "\n",
       "                                                Text  comp_money  comp_invest  \n",
       "0   of investing in the fund?all mutual funds tak...           1            1  \n",
       "1    you could lose money on your investment in t...           1            1  \n",
       "2   of leveraged and inverse leveraged funds and ...           1            0  \n",
       "3            you may lose money by investing in t...           1            1  \n",
       "4            an investment in the fund entails ri...           1            0  "
      ]
     },
     "execution_count": 41,
     "metadata": {},
     "output_type": "execute_result"
    }
   ],
   "source": [
    "final.head()"
   ]
  },
  {
   "cell_type": "code",
   "execution_count": 42,
   "metadata": {},
   "outputs": [
    {
     "data": {
      "text/plain": [
       "1    90275\n",
       "0    40995\n",
       "Name: comp_invest, dtype: int64"
      ]
     },
     "execution_count": 42,
     "metadata": {},
     "output_type": "execute_result"
    }
   ],
   "source": [
    "final.comp_invest.value_counts()"
   ]
  },
  {
   "cell_type": "code",
   "execution_count": 43,
   "metadata": {},
   "outputs": [],
   "source": [
    "der=['derivative','derivatives']\n",
    "\n",
    "count_der=0\n",
    "cnt_der=[]\n",
    "for row in final['Text']:\n",
    "    row=row.translate(str.maketrans('', '', string.punctuation))\n",
    "    words = row.lower().split()\n",
    "    #count_neg.append(len([i for i in tokens1 if i in list_Negative]))\n",
    "    count_der = len([i for i in words if i in der])\n",
    "    cnt_der.append(count_der)"
   ]
  },
  {
   "cell_type": "code",
   "execution_count": 44,
   "metadata": {},
   "outputs": [],
   "source": [
    "final['Cnt_Derivative']=''\n",
    "final['Cnt_Derivative']=cnt_der"
   ]
  },
  {
   "cell_type": "code",
   "execution_count": 45,
   "metadata": {},
   "outputs": [
    {
     "data": {
      "text/html": [
       "<div>\n",
       "<style scoped>\n",
       "    .dataframe tbody tr th:only-of-type {\n",
       "        vertical-align: middle;\n",
       "    }\n",
       "\n",
       "    .dataframe tbody tr th {\n",
       "        vertical-align: top;\n",
       "    }\n",
       "\n",
       "    .dataframe thead th {\n",
       "        text-align: right;\n",
       "    }\n",
       "</style>\n",
       "<table border=\"1\" class=\"dataframe\">\n",
       "  <thead>\n",
       "    <tr style=\"text-align: right;\">\n",
       "      <th></th>\n",
       "      <th>Unnamed: 0</th>\n",
       "      <th>filing_date</th>\n",
       "      <th>fund_CIK</th>\n",
       "      <th>principal_risks</th>\n",
       "      <th>col2</th>\n",
       "      <th>Text</th>\n",
       "      <th>comp_money</th>\n",
       "      <th>comp_invest</th>\n",
       "      <th>Cnt_Derivative</th>\n",
       "    </tr>\n",
       "  </thead>\n",
       "  <tbody>\n",
       "    <tr>\n",
       "      <th>0</th>\n",
       "      <td>0001318148-10-001804</td>\n",
       "      <td>20101124</td>\n",
       "      <td>879569</td>\n",
       "      <td>of investing in the fund?all mutual funds tak...</td>\n",
       "      <td></td>\n",
       "      <td>of investing in the fund?all mutual funds tak...</td>\n",
       "      <td>1</td>\n",
       "      <td>1</td>\n",
       "      <td>7</td>\n",
       "    </tr>\n",
       "    <tr>\n",
       "      <th>1</th>\n",
       "      <td>0000356682-10-000007</td>\n",
       "      <td>20100201</td>\n",
       "      <td>356682</td>\n",
       "      <td>you could lose money on your investment in t...</td>\n",
       "      <td></td>\n",
       "      <td>you could lose money on your investment in t...</td>\n",
       "      <td>1</td>\n",
       "      <td>1</td>\n",
       "      <td>0</td>\n",
       "    </tr>\n",
       "    <tr>\n",
       "      <th>2</th>\n",
       "      <td>0001193125-10-282324</td>\n",
       "      <td>20101216</td>\n",
       "      <td>1174610</td>\n",
       "      <td>of leveraged and inverse leveraged funds and ...</td>\n",
       "      <td></td>\n",
       "      <td>of leveraged and inverse leveraged funds and ...</td>\n",
       "      <td>1</td>\n",
       "      <td>0</td>\n",
       "      <td>4</td>\n",
       "    </tr>\n",
       "    <tr>\n",
       "      <th>3</th>\n",
       "      <td>0001398344-10-000552</td>\n",
       "      <td>20100430</td>\n",
       "      <td>890453</td>\n",
       "      <td>you may lose money by investing in t...</td>\n",
       "      <td></td>\n",
       "      <td>you may lose money by investing in t...</td>\n",
       "      <td>1</td>\n",
       "      <td>1</td>\n",
       "      <td>0</td>\n",
       "    </tr>\n",
       "    <tr>\n",
       "      <th>4</th>\n",
       "      <td>0000950123-10-065147</td>\n",
       "      <td>20100713</td>\n",
       "      <td>1424958</td>\n",
       "      <td>an investment in the fund entails ri...</td>\n",
       "      <td></td>\n",
       "      <td>an investment in the fund entails ri...</td>\n",
       "      <td>1</td>\n",
       "      <td>0</td>\n",
       "      <td>10</td>\n",
       "    </tr>\n",
       "  </tbody>\n",
       "</table>\n",
       "</div>"
      ],
      "text/plain": [
       "             Unnamed: 0  filing_date  fund_CIK  \\\n",
       "0  0001318148-10-001804     20101124    879569   \n",
       "1  0000356682-10-000007     20100201    356682   \n",
       "2  0001193125-10-282324     20101216   1174610   \n",
       "3  0001398344-10-000552     20100430    890453   \n",
       "4  0000950123-10-065147     20100713   1424958   \n",
       "\n",
       "                                     principal_risks col2  \\\n",
       "0   of investing in the fund?all mutual funds tak...        \n",
       "1    you could lose money on your investment in t...        \n",
       "2   of leveraged and inverse leveraged funds and ...        \n",
       "3            you may lose money by investing in t...        \n",
       "4            an investment in the fund entails ri...        \n",
       "\n",
       "                                                Text  comp_money  comp_invest  \\\n",
       "0   of investing in the fund?all mutual funds tak...           1            1   \n",
       "1    you could lose money on your investment in t...           1            1   \n",
       "2   of leveraged and inverse leveraged funds and ...           1            0   \n",
       "3            you may lose money by investing in t...           1            1   \n",
       "4            an investment in the fund entails ri...           1            0   \n",
       "\n",
       "   Cnt_Derivative  \n",
       "0               7  \n",
       "1               0  \n",
       "2               4  \n",
       "3               0  \n",
       "4              10  "
      ]
     },
     "execution_count": 45,
     "metadata": {},
     "output_type": "execute_result"
    }
   ],
   "source": [
    "final.head()"
   ]
  },
  {
   "cell_type": "code",
   "execution_count": 46,
   "metadata": {},
   "outputs": [
    {
     "data": {
      "text/plain": [
       "count    131270.000000\n",
       "mean          3.921223\n",
       "std           5.576831\n",
       "min           0.000000\n",
       "25%           0.000000\n",
       "50%           0.000000\n",
       "75%           7.000000\n",
       "max          59.000000\n",
       "Name: Cnt_Derivative, dtype: float64"
      ]
     },
     "execution_count": 46,
     "metadata": {},
     "output_type": "execute_result"
    }
   ],
   "source": [
    "final.Cnt_Derivative.describe()"
   ]
  },
  {
   "cell_type": "code",
   "execution_count": 47,
   "metadata": {},
   "outputs": [],
   "source": [
    "#final.to_csv('Risk_Compliance_Derivative2010-2018.csv', index=False)"
   ]
  },
  {
   "cell_type": "code",
   "execution_count": 48,
   "metadata": {},
   "outputs": [],
   "source": [
    "#final.to_excel('Risk_Compliance_Derivative2010-2018.xlsx', index=False)"
   ]
  },
  {
   "cell_type": "code",
   "execution_count": 49,
   "metadata": {},
   "outputs": [
    {
     "data": {
      "text/plain": [
       "0    67733\n",
       "5     6178\n",
       "6     5566\n",
       "7     5442\n",
       "8     5142\n",
       "Name: Cnt_Derivative, dtype: int64"
      ]
     },
     "execution_count": 49,
     "metadata": {},
     "output_type": "execute_result"
    }
   ],
   "source": [
    "final.Cnt_Derivative.value_counts().head()"
   ]
  },
  {
   "cell_type": "code",
   "execution_count": 50,
   "metadata": {},
   "outputs": [
    {
     "data": {
      "text/plain": [
       "(131270, 9)"
      ]
     },
     "execution_count": 50,
     "metadata": {},
     "output_type": "execute_result"
    }
   ],
   "source": [
    "final.shape"
   ]
  },
  {
   "cell_type": "code",
   "execution_count": 51,
   "metadata": {},
   "outputs": [
    {
     "data": {
      "text/plain": [
       "1    121467\n",
       "0      9803\n",
       "Name: comp_money, dtype: int64"
      ]
     },
     "execution_count": 51,
     "metadata": {},
     "output_type": "execute_result"
    }
   ],
   "source": [
    "final.comp_money.value_counts()"
   ]
  },
  {
   "cell_type": "code",
   "execution_count": 52,
   "metadata": {},
   "outputs": [
    {
     "data": {
      "text/plain": [
       "1    90275\n",
       "0    40995\n",
       "Name: comp_invest, dtype: int64"
      ]
     },
     "execution_count": 52,
     "metadata": {},
     "output_type": "execute_result"
    }
   ],
   "source": [
    "final.comp_invest.value_counts()"
   ]
  },
  {
   "cell_type": "code",
   "execution_count": 53,
   "metadata": {},
   "outputs": [
    {
     "data": {
      "text/html": [
       "<div>\n",
       "<style scoped>\n",
       "    .dataframe tbody tr th:only-of-type {\n",
       "        vertical-align: middle;\n",
       "    }\n",
       "\n",
       "    .dataframe tbody tr th {\n",
       "        vertical-align: top;\n",
       "    }\n",
       "\n",
       "    .dataframe thead th {\n",
       "        text-align: right;\n",
       "    }\n",
       "</style>\n",
       "<table border=\"1\" class=\"dataframe\">\n",
       "  <thead>\n",
       "    <tr style=\"text-align: right;\">\n",
       "      <th></th>\n",
       "      <th>Unnamed: 0</th>\n",
       "      <th>filing_date</th>\n",
       "      <th>fund_CIK</th>\n",
       "      <th>principal_risks</th>\n",
       "      <th>col2</th>\n",
       "      <th>Text</th>\n",
       "      <th>comp_money</th>\n",
       "      <th>comp_invest</th>\n",
       "      <th>Cnt_Derivative</th>\n",
       "    </tr>\n",
       "  </thead>\n",
       "  <tbody>\n",
       "    <tr>\n",
       "      <th>0</th>\n",
       "      <td>0001318148-10-001804</td>\n",
       "      <td>20101124</td>\n",
       "      <td>879569</td>\n",
       "      <td>of investing in the fund?all mutual funds tak...</td>\n",
       "      <td></td>\n",
       "      <td>of investing in the fund?all mutual funds tak...</td>\n",
       "      <td>1</td>\n",
       "      <td>1</td>\n",
       "      <td>7</td>\n",
       "    </tr>\n",
       "    <tr>\n",
       "      <th>1</th>\n",
       "      <td>0000356682-10-000007</td>\n",
       "      <td>20100201</td>\n",
       "      <td>356682</td>\n",
       "      <td>you could lose money on your investment in t...</td>\n",
       "      <td></td>\n",
       "      <td>you could lose money on your investment in t...</td>\n",
       "      <td>1</td>\n",
       "      <td>1</td>\n",
       "      <td>0</td>\n",
       "    </tr>\n",
       "    <tr>\n",
       "      <th>2</th>\n",
       "      <td>0001193125-10-282324</td>\n",
       "      <td>20101216</td>\n",
       "      <td>1174610</td>\n",
       "      <td>of leveraged and inverse leveraged funds and ...</td>\n",
       "      <td></td>\n",
       "      <td>of leveraged and inverse leveraged funds and ...</td>\n",
       "      <td>1</td>\n",
       "      <td>0</td>\n",
       "      <td>4</td>\n",
       "    </tr>\n",
       "    <tr>\n",
       "      <th>3</th>\n",
       "      <td>0001398344-10-000552</td>\n",
       "      <td>20100430</td>\n",
       "      <td>890453</td>\n",
       "      <td>you may lose money by investing in t...</td>\n",
       "      <td></td>\n",
       "      <td>you may lose money by investing in t...</td>\n",
       "      <td>1</td>\n",
       "      <td>1</td>\n",
       "      <td>0</td>\n",
       "    </tr>\n",
       "    <tr>\n",
       "      <th>4</th>\n",
       "      <td>0000950123-10-065147</td>\n",
       "      <td>20100713</td>\n",
       "      <td>1424958</td>\n",
       "      <td>an investment in the fund entails ri...</td>\n",
       "      <td></td>\n",
       "      <td>an investment in the fund entails ri...</td>\n",
       "      <td>1</td>\n",
       "      <td>0</td>\n",
       "      <td>10</td>\n",
       "    </tr>\n",
       "  </tbody>\n",
       "</table>\n",
       "</div>"
      ],
      "text/plain": [
       "             Unnamed: 0  filing_date  fund_CIK  \\\n",
       "0  0001318148-10-001804     20101124    879569   \n",
       "1  0000356682-10-000007     20100201    356682   \n",
       "2  0001193125-10-282324     20101216   1174610   \n",
       "3  0001398344-10-000552     20100430    890453   \n",
       "4  0000950123-10-065147     20100713   1424958   \n",
       "\n",
       "                                     principal_risks col2  \\\n",
       "0   of investing in the fund?all mutual funds tak...        \n",
       "1    you could lose money on your investment in t...        \n",
       "2   of leveraged and inverse leveraged funds and ...        \n",
       "3            you may lose money by investing in t...        \n",
       "4            an investment in the fund entails ri...        \n",
       "\n",
       "                                                Text  comp_money  comp_invest  \\\n",
       "0   of investing in the fund?all mutual funds tak...           1            1   \n",
       "1    you could lose money on your investment in t...           1            1   \n",
       "2   of leveraged and inverse leveraged funds and ...           1            0   \n",
       "3            you may lose money by investing in t...           1            1   \n",
       "4            an investment in the fund entails ri...           1            0   \n",
       "\n",
       "   Cnt_Derivative  \n",
       "0               7  \n",
       "1               0  \n",
       "2               4  \n",
       "3               0  \n",
       "4              10  "
      ]
     },
     "execution_count": 53,
     "metadata": {},
     "output_type": "execute_result"
    }
   ],
   "source": [
    "final.head()"
   ]
  },
  {
   "cell_type": "code",
   "execution_count": 54,
   "metadata": {},
   "outputs": [
    {
     "data": {
      "text/plain": [
       "count    131270.000000\n",
       "mean          3.921223\n",
       "std           5.576831\n",
       "min           0.000000\n",
       "25%           0.000000\n",
       "50%           0.000000\n",
       "75%           7.000000\n",
       "max          59.000000\n",
       "Name: Cnt_Derivative, dtype: float64"
      ]
     },
     "execution_count": 54,
     "metadata": {},
     "output_type": "execute_result"
    }
   ],
   "source": [
    "final.Cnt_Derivative.describe()"
   ]
  },
  {
   "cell_type": "code",
   "execution_count": 57,
   "metadata": {},
   "outputs": [],
   "source": [
    "final['Compliance']=final['comp_money'] + final['comp_invest']"
   ]
  },
  {
   "cell_type": "code",
   "execution_count": 58,
   "metadata": {},
   "outputs": [
    {
     "data": {
      "text/plain": [
       "2    88416\n",
       "1    34910\n",
       "0     7944\n",
       "Name: Compliance, dtype: int64"
      ]
     },
     "execution_count": 58,
     "metadata": {},
     "output_type": "execute_result"
    }
   ],
   "source": [
    "final.Compliance.value_counts()"
   ]
  },
  {
   "cell_type": "code",
   "execution_count": 59,
   "metadata": {},
   "outputs": [
    {
     "data": {
      "text/plain": [
       "(131270, 10)"
      ]
     },
     "execution_count": 59,
     "metadata": {},
     "output_type": "execute_result"
    }
   ],
   "source": [
    "final.shape"
   ]
  },
  {
   "cell_type": "code",
   "execution_count": 60,
   "metadata": {},
   "outputs": [
    {
     "data": {
      "text/plain": [
       "123326"
      ]
     },
     "execution_count": 60,
     "metadata": {},
     "output_type": "execute_result"
    }
   ],
   "source": [
    "88416+34910"
   ]
  },
  {
   "cell_type": "code",
   "execution_count": 61,
   "metadata": {},
   "outputs": [
    {
     "data": {
      "text/plain": [
       "0.9394835072750819"
      ]
     },
     "execution_count": 61,
     "metadata": {},
     "output_type": "execute_result"
    }
   ],
   "source": [
    "123326/131270"
   ]
  },
  {
   "cell_type": "code",
   "execution_count": null,
   "metadata": {},
   "outputs": [],
   "source": []
  }
 ],
 "metadata": {
  "kernelspec": {
   "display_name": "Python 3",
   "language": "python",
   "name": "python3"
  },
  "language_info": {
   "codemirror_mode": {
    "name": "ipython",
    "version": 3
   },
   "file_extension": ".py",
   "mimetype": "text/x-python",
   "name": "python",
   "nbconvert_exporter": "python",
   "pygments_lexer": "ipython3",
   "version": "3.6.6"
  }
 },
 "nbformat": 4,
 "nbformat_minor": 2
}
