{
 "cells": [
  {
   "cell_type": "code",
   "execution_count": 1,
   "metadata": {},
   "outputs": [],
   "source": [
    "import tweepy\n",
    "import csv\n",
    "import time\n",
    "import html.parser as hp\n",
    "import pandas as pd\n",
    "import nltk\n",
    "import pickle\n",
    "import numpy as np\n",
    "import gensim\n",
    "import re  # regular expressions (for playing with the text)\n",
    "from gensim.parsing.preprocessing import STOPWORDS # common english \"stop words\" -- a, the, etc.\n",
    "from gensim.parsing import PorterStemmer\n",
    "from gensim import corpora, models\n",
    "import nltk.data\n",
    "import nltk\n",
    "\n",
    "from sklearn.decomposition import LatentDirichletAllocation, TruncatedSVD\n",
    "from sklearn.feature_extraction.text import CountVectorizer, TfidfVectorizer\n",
    "from sklearn.model_selection import GridSearchCV\n",
    "from pprint import pprint\n",
    "\n",
    "import pyLDAvis\n",
    "import pyLDAvis.sklearn\n",
    "import matplotlib.pyplot as plt\n",
    "%matplotlib inline\n",
    "import spacy\n",
    "\n",
    "from nltk.tokenize import RegexpTokenizer\n",
    "from gensim import corpora, models\n",
    "import gensim\n",
    "import os\n",
    "from os import path\n",
    "from time import sleep\n",
    "import matplotlib.pyplot as plt\n",
    "import random\n",
    "import wordcloud\n",
    "from wordcloud import WordCloud , STOPWORDS\n",
    "\n",
    "import re\n",
    "import pickle\n",
    "import gensim\n",
    "from gensim.models import Word2Vec\n",
    "from sklearn.decomposition import PCA\n",
    "import matplotlib.pyplot as plt\n",
    "%matplotlib inline\n",
    "\n",
    "import warnings\n",
    "warnings.filterwarnings(\"ignore\")\n",
    "\n"
   ]
  },
  {
   "cell_type": "code",
   "execution_count": 2,
   "metadata": {},
   "outputs": [],
   "source": [
    "X_train=pd.read_csv('TrainData.csv')"
   ]
  },
  {
   "cell_type": "code",
   "execution_count": 3,
   "metadata": {},
   "outputs": [],
   "source": [
    "X_train.drop(columns=['Unnamed: 0'], inplace=True)"
   ]
  },
  {
   "cell_type": "code",
   "execution_count": 4,
   "metadata": {},
   "outputs": [
    {
     "data": {
      "text/plain": [
       "(5394, 2)"
      ]
     },
     "execution_count": 4,
     "metadata": {},
     "output_type": "execute_result"
    }
   ],
   "source": [
    "X_train.shape"
   ]
  },
  {
   "cell_type": "code",
   "execution_count": 5,
   "metadata": {},
   "outputs": [],
   "source": [
    "X_val=pd.read_csv('ValidationData.csv')"
   ]
  },
  {
   "cell_type": "code",
   "execution_count": 6,
   "metadata": {},
   "outputs": [],
   "source": [
    "X_val.drop(columns=['Unnamed: 0'], inplace=True)"
   ]
  },
  {
   "cell_type": "code",
   "execution_count": 7,
   "metadata": {},
   "outputs": [
    {
     "data": {
      "text/plain": [
       "(1349, 2)"
      ]
     },
     "execution_count": 7,
     "metadata": {},
     "output_type": "execute_result"
    }
   ],
   "source": [
    "X_val.shape"
   ]
  },
  {
   "cell_type": "code",
   "execution_count": 8,
   "metadata": {},
   "outputs": [],
   "source": [
    "y_train = X_train.Sentiment.values"
   ]
  },
  {
   "cell_type": "code",
   "execution_count": 9,
   "metadata": {},
   "outputs": [
    {
     "data": {
      "text/plain": [
       "(5394,)"
      ]
     },
     "execution_count": 9,
     "metadata": {},
     "output_type": "execute_result"
    }
   ],
   "source": [
    "y_train.shape"
   ]
  },
  {
   "cell_type": "code",
   "execution_count": 10,
   "metadata": {},
   "outputs": [],
   "source": [
    "y_val=X_val.Sentiment.values"
   ]
  },
  {
   "cell_type": "code",
   "execution_count": 11,
   "metadata": {},
   "outputs": [
    {
     "data": {
      "text/plain": [
       "(1349,)"
      ]
     },
     "execution_count": 11,
     "metadata": {},
     "output_type": "execute_result"
    }
   ],
   "source": [
    "y_val.shape"
   ]
  },
  {
   "cell_type": "code",
   "execution_count": 12,
   "metadata": {},
   "outputs": [],
   "source": [
    "test=pd.read_csv('Final_Relabelled_8thApril.csv')"
   ]
  },
  {
   "cell_type": "code",
   "execution_count": 13,
   "metadata": {},
   "outputs": [
    {
     "data": {
      "text/plain": [
       "(1679, 2)"
      ]
     },
     "execution_count": 13,
     "metadata": {},
     "output_type": "execute_result"
    }
   ],
   "source": [
    "test.shape"
   ]
  },
  {
   "cell_type": "code",
   "execution_count": 14,
   "metadata": {},
   "outputs": [],
   "source": [
    "from sklearn.feature_extraction.text import TfidfVectorizer\n",
    "# Create feature vectors\n",
    "vectorizer = TfidfVectorizer(min_df = 5,\n",
    "                             max_df = 0.8,\n",
    "                             sublinear_tf = True,\n",
    "                             use_idf = True)\n",
    "train_vectors = vectorizer.fit_transform(X_train['Sentences'])\n",
    "val_vectors = vectorizer.transform(X_val['Sentences'])\n",
    "test_vectors = vectorizer.transform(test['Sentences'])"
   ]
  },
  {
   "cell_type": "markdown",
   "metadata": {},
   "source": [
    "## Logistic Regression"
   ]
  },
  {
   "cell_type": "code",
   "execution_count": 49,
   "metadata": {},
   "outputs": [],
   "source": [
    "from sklearn.linear_model import LogisticRegression\n",
    "from sklearn.metrics import accuracy_score"
   ]
  },
  {
   "cell_type": "code",
   "execution_count": 50,
   "metadata": {},
   "outputs": [
    {
     "name": "stdout",
     "output_type": "stream",
     "text": [
      "Accuracy for C=0.01: 0.6345441067457376\n",
      "Accuracy for C=0.05: 0.6419570051890289\n",
      "Accuracy for C=0.25: 0.6723498888065234\n",
      "Accuracy for C=0.5: 0.6879169755374351\n",
      "Accuracy for C=1: 0.6975537435137139\n"
     ]
    }
   ],
   "source": [
    "for c in [0.01, 0.05, 0.25, 0.5, 1]:\n",
    "    \n",
    "    lr = LogisticRegression(C=c)\n",
    "    lr.fit(train_vectors, y_train)\n",
    "    print (\"Accuracy for C=%s: %s\" % (c, accuracy_score(y_val, lr.predict(val_vectors))))"
   ]
  },
  {
   "cell_type": "code",
   "execution_count": 51,
   "metadata": {},
   "outputs": [
    {
     "name": "stdout",
     "output_type": "stream",
     "text": [
      "Final Accuracy: 0.7111375818939845\n"
     ]
    }
   ],
   "source": [
    "final_tfidf = LogisticRegression(C=1)\n",
    "final_tfidf.fit(train_vectors, y_train)\n",
    "print (\"Final Accuracy: %s\" % accuracy_score(test['Sentiment'], final_tfidf.predict(test_vectors)))"
   ]
  },
  {
   "cell_type": "markdown",
   "metadata": {},
   "source": [
    "# Linear SVM"
   ]
  },
  {
   "cell_type": "code",
   "execution_count": 95,
   "metadata": {},
   "outputs": [],
   "source": [
    "from sklearn.feature_extraction.text import CountVectorizer\n",
    "from sklearn.svm import LinearSVC\n",
    "from sklearn.metrics import accuracy_score\n",
    "from sklearn.model_selection import train_test_split"
   ]
  },
  {
   "cell_type": "code",
   "execution_count": 96,
   "metadata": {},
   "outputs": [
    {
     "name": "stdout",
     "output_type": "stream",
     "text": [
      "Accuracy for C=0.01: 0.6553002223869533\n",
      "Accuracy for C=0.05: 0.6834692364714603\n",
      "Accuracy for C=0.25: 0.7057079318013343\n",
      "Accuracy for C=0.5: 0.7034840622683469\n",
      "Accuracy for C=1: 0.7049666419570052\n"
     ]
    }
   ],
   "source": [
    "for c in [0.01, 0.05, 0.25, 0.5, 1]:\n",
    "    \n",
    "    svm = LinearSVC(C=c)\n",
    "    svm.fit(train_vectors, y_train)\n",
    "    print (\"Accuracy for C=%s: %s\" % (c, accuracy_score(y_val, svm.predict(val_vectors))))\n",
    "    "
   ]
  },
  {
   "cell_type": "code",
   "execution_count": 97,
   "metadata": {},
   "outputs": [
    {
     "name": "stdout",
     "output_type": "stream",
     "text": [
      "Final Accuracy: 0.6974389517569982\n"
     ]
    }
   ],
   "source": [
    "final_svm_ngram = LinearSVC(C=0.25)\n",
    "final_svm_ngram.fit(train_vectors, y_train)\n",
    "print (\"Final Accuracy: %s\" % accuracy_score(test['Sentiment'], final_svm_ngram.predict(test_vectors)))"
   ]
  },
  {
   "cell_type": "markdown",
   "metadata": {},
   "source": [
    "## Light GBM"
   ]
  },
  {
   "cell_type": "code",
   "execution_count": 56,
   "metadata": {},
   "outputs": [],
   "source": [
    "import lightgbm as lgb\n",
    "from sklearn import metrics\n",
    "\n",
    "lg = lgb.LGBMClassifier(silent=False)\n",
    "param_dist = {\"max_depth\": [10,15,20,25],\n",
    "              \"learning_rate\" : [0.01,0.05],\n",
    "              \"num_leaves\": [100,200,300],\n",
    "              \"n_estimators\": [100,200,300]\n",
    "             }\n",
    "grid_search = GridSearchCV(lg, n_jobs=-1, param_grid=param_dist, cv = 3, scoring=\"roc_auc\", verbose=5)"
   ]
  },
  {
   "cell_type": "code",
   "execution_count": null,
   "metadata": {},
   "outputs": [],
   "source": [
    "grid_search.fit(train_vectors, y_train)"
   ]
  },
  {
   "cell_type": "code",
   "execution_count": null,
   "metadata": {},
   "outputs": [],
   "source": [
    "grid_search.best_estimator_"
   ]
  },
  {
   "cell_type": "code",
   "execution_count": 94,
   "metadata": {},
   "outputs": [],
   "source": [
    "d_train = lgb.Dataset(train_vectors, train_y)"
   ]
  },
  {
   "cell_type": "code",
   "execution_count": 95,
   "metadata": {},
   "outputs": [],
   "source": [
    "lg = lgb.LGBMClassifier(silent=False)"
   ]
  },
  {
   "cell_type": "code",
   "execution_count": 97,
   "metadata": {},
   "outputs": [],
   "source": [
    "params = {\"boosting_type\" :'gbdt', \"class_weight\" : None, \"colsample_bytree\" : 1.0,\n",
    "        \"importance_type\" : 'split', \"learning_rate\" : 0.005, \"max_depth\" : 20,\n",
    "        \"min_child_samples\" : 20, \"min_child_weight\" : 0.001, \"min_split_gain\" : 0.0,\n",
    "        \"n_estimators\" : 300, \"n_jobs\" : -1, \"num_leaves\" : 100, \"objective\" : None,\n",
    "        \"random_state\" : None, \"reg_alpha\" : 0.0, \"reg_lambda\" : 0.0, \"silent\" : False,\n",
    "        \"subsample\" : 1.0, \"subsample_for_bin\" : 200000, \"subsample_freq\" : 0}"
   ]
  },
  {
   "cell_type": "code",
   "execution_count": 61,
   "metadata": {},
   "outputs": [],
   "source": [
    "#params = {\"max_depth\": 25, \"learning_rate\" : 0.1, \"num_leaves\": 300,  \"n_estimators\": 200}"
   ]
  },
  {
   "cell_type": "code",
   "execution_count": 98,
   "metadata": {},
   "outputs": [
    {
     "name": "stderr",
     "output_type": "stream",
     "text": [
      "/usr/local/lib/python3.6/site-packages/lightgbm/engine.py:118: UserWarning: Found `n_estimators` in params. Will use it instead of argument\n",
      "  warnings.warn(\"Found `{}` in params. Will use it instead of argument\".format(alias))\n",
      "/usr/local/lib/python3.6/site-packages/lightgbm/basic.py:741: UserWarning: silent keyword has been found in `params` and will be ignored.\n",
      "Please use silent argument of the Dataset constructor to pass this parameter.\n",
      "  .format(key))\n"
     ]
    }
   ],
   "source": [
    "model2 = lgb.train(params, d_train)"
   ]
  },
  {
   "cell_type": "code",
   "execution_count": 123,
   "metadata": {},
   "outputs": [],
   "source": [
    "pred=model2.predict(test_vectors)"
   ]
  },
  {
   "cell_type": "code",
   "execution_count": 124,
   "metadata": {},
   "outputs": [
    {
     "data": {
      "text/plain": [
       "array([0.33708272, 0.41618535, 0.1777202 , ..., 0.41829765, 0.57026489,\n",
       "       0.73166651])"
      ]
     },
     "execution_count": 124,
     "metadata": {},
     "output_type": "execute_result"
    }
   ],
   "source": [
    "pred"
   ]
  },
  {
   "cell_type": "code",
   "execution_count": 125,
   "metadata": {},
   "outputs": [],
   "source": [
    "for i in range(len(pred)):\n",
    "    if pred[i]>=.5: \n",
    "        pred[i]=1\n",
    "    else:  \n",
    "        pred[i]=0"
   ]
  },
  {
   "cell_type": "code",
   "execution_count": 126,
   "metadata": {},
   "outputs": [
    {
     "name": "stdout",
     "output_type": "stream",
     "text": [
      "Accuracy score is : 0.69\n"
     ]
    }
   ],
   "source": [
    "print('Accuracy score is : {:.2f}'.format(accuracy_score(test_y,pred)))"
   ]
  },
  {
   "cell_type": "code",
   "execution_count": 127,
   "metadata": {},
   "outputs": [
    {
     "name": "stdout",
     "output_type": "stream",
     "text": [
      "[[1466  169]\n",
      " [ 620  278]]\n"
     ]
    }
   ],
   "source": [
    "print(confusion_matrix(test_y,pred))"
   ]
  },
  {
   "cell_type": "code",
   "execution_count": null,
   "metadata": {},
   "outputs": [],
   "source": []
  },
  {
   "cell_type": "markdown",
   "metadata": {},
   "source": [
    "# Implementing UnSupervised"
   ]
  },
  {
   "cell_type": "code",
   "execution_count": 15,
   "metadata": {},
   "outputs": [],
   "source": [
    "from nltk.sentiment.vader import SentimentIntensityAnalyzer as SIA\n",
    "\n",
    "sia = SIA()"
   ]
  },
  {
   "cell_type": "code",
   "execution_count": 16,
   "metadata": {},
   "outputs": [],
   "source": [
    "sia.lexicon.clear()"
   ]
  },
  {
   "cell_type": "code",
   "execution_count": 17,
   "metadata": {},
   "outputs": [
    {
     "data": {
      "text/plain": [
       "{}"
      ]
     },
     "execution_count": 17,
     "metadata": {},
     "output_type": "execute_result"
    }
   ],
   "source": [
    "sia.lexicon"
   ]
  },
  {
   "cell_type": "code",
   "execution_count": 18,
   "metadata": {},
   "outputs": [],
   "source": [
    "new_words = {'abandon' :-2,\n",
    "'abandoned' :-2,\n",
    "'abandonment' :-2,\n",
    "'abnormally' :-2,\n",
    "'abolished' :-2,\n",
    "'abrogate' :-2,\n",
    "'abrupt' :-2,\n",
    "'abruptly' :-2,\n",
    "'abuse' :-2,\n",
    "'abuses' :-2,\n",
    "'abusive' :-2,\n",
    "'accident' :-2,\n",
    "'accidentally' :-2,\n",
    "'accidents' :-2,\n",
    "'adversarial' :-2,\n",
    "'adverse' :-2,\n",
    "'adversely' :-2,\n",
    "'adversity' :-2,\n",
    "'aftermath' :-2,\n",
    "'alienation' :-2,\n",
    "'allegations' :-2,\n",
    "'allege' :-2,\n",
    "'alleged' :-2,\n",
    "'anomalies' :-2,\n",
    "'antitrust' :-2,\n",
    "'arrearage' :-2,\n",
    "'arrearages' :-2,\n",
    "'arrears' :-2,\n",
    "'artificially' :-2,\n",
    "'bad' :-2,\n",
    "'bail' :-2,\n",
    "'bailout' :-2,\n",
    "'bankrupt' :-2,\n",
    "'bankruptcies' :-2,\n",
    "'bankruptcy' :-2,\n",
    "'bans' :-2,\n",
    "'barrier' :-2,\n",
    "'barriers' :-2,\n",
    "'bottlenecks' :-2,\n",
    "'boycotts' :-2,\n",
    "'breach' :-2,\n",
    "'breached' :-2,\n",
    "'breaches' :-2,\n",
    "'break' :-2,\n",
    "'breakdown' :-2,\n",
    "'breakdowns' :-2,\n",
    "'breaking' :-2,\n",
    "'breaks' :-2,\n",
    "'broken' :-2,\n",
    "'burden' :-2,\n",
    "'burdened' :-2,\n",
    "'burdens' :-2,\n",
    "'burdensome' :-2,\n",
    "'cancel' :-2,\n",
    "'canceled' :-2,\n",
    "'cancellation' :-2,\n",
    "'cancelled' :-2,\n",
    "'cancelling' :-2,\n",
    "'cancels' :-2,\n",
    "'catastrophe' :-2,\n",
    "'catastrophes' :-2,\n",
    "'catastrophic' :-2,\n",
    "'cease' :-2,\n",
    "'ceased' :-2,\n",
    "'ceases' :-2,\n",
    "'challenge' :-2,\n",
    "'challenged' :-2,\n",
    "'challenges' :-2,\n",
    "'challenging' :-2,\n",
    "'circumvented' :-2,\n",
    "'claiming' :-2,\n",
    "'claims' :-2,\n",
    "'closed' :-2,\n",
    "'closing' :-2,\n",
    "'closings' :-2,\n",
    "'closure' :-2,\n",
    "'closures' :-2,\n",
    "'coerce' :-2,\n",
    "'collapse' :-2,\n",
    "'collapsed' :-2,\n",
    "'colluded' :-2,\n",
    "'collusion' :-2,\n",
    "'complaints' :-2,\n",
    "'complicated' :-2,\n",
    "'complications' :-2,\n",
    "'concern' :-2,\n",
    "'concerned' :-2,\n",
    "'concerns' :-2,\n",
    "'confiscation' :-2,\n",
    "'confiscations' :-2,\n",
    "'conflict' :-2,\n",
    "'conflicting' :-2,\n",
    "'conflicts' :-2,\n",
    "'confront' :-2,\n",
    "'confrontations' :-2,\n",
    "'confronted' :-2,\n",
    "'confronting' :-2,\n",
    "'confused' :-2,\n",
    "'confusion' :-2,\n",
    "'contend' :-2,\n",
    "'contention' :-2,\n",
    "'contentious' :-2,\n",
    "'contested' :-2,\n",
    "'contesting' :-2,\n",
    "'contraction' :-2,\n",
    "'contradict' :-2,\n",
    "'contradicted' :-2,\n",
    "'contradictory' :-2,\n",
    "'contrary' :-2,\n",
    "'controversial' :-2,\n",
    "'controversies' :-2,\n",
    "'controversy' :-2,\n",
    "'corrected' :-2,\n",
    "'correcting' :-2,\n",
    "'correction' :-2,\n",
    "'corrections' :-2,\n",
    "'corrects' :-2,\n",
    "'corrupting' :-2,\n",
    "'corruption' :-2,\n",
    "'costly' :-2,\n",
    "'counterclaims' :-2,\n",
    "'counterfeit' :-2,\n",
    "'countermeasures' :-2,\n",
    "'crime' :-2,\n",
    "'crises' :-2,\n",
    "'crisis' :-2,\n",
    "'critical' :-2,\n",
    "'crucial' :-2,\n",
    "'curtail' :-2,\n",
    "'curtailed' :-2,\n",
    "'curtailing' :-2,\n",
    "'curtailment' :-2,\n",
    "'curtails' :-2,\n",
    "'cut' :-2,\n",
    "'cutbacks' :-2,\n",
    "'cyberattacks' :-2,\n",
    "'cybercrime' :-2,\n",
    "'damage' :-2,\n",
    "'damaged' :-2,\n",
    "'damages' :-2,\n",
    "'damaging' :-2,\n",
    "'dampen' :-2,\n",
    "'dampened' :-2,\n",
    "'danger' :-2,\n",
    "'dangers' :-2,\n",
    "'deceptive' :-2,\n",
    "'decline' :-2,\n",
    "'declined' :-2,\n",
    "'declines' :-2,\n",
    "'declining' :-2,\n",
    "'default' :-2,\n",
    "'defaulted' :-2,\n",
    "'defaulting' :-2,\n",
    "'defaults' :-2,\n",
    "'defeat' :-2,\n",
    "'defect' :-2,\n",
    "'defective' :-2,\n",
    "'defects' :-2,\n",
    "'defend' :-2,\n",
    "'defending' :-2,\n",
    "'defensive' :-2,\n",
    "'defer' :-2,\n",
    "'deficiencies' :-2,\n",
    "'deficiency' :-2,\n",
    "'deficit' :-2,\n",
    "'deficits' :-2,\n",
    "'defraud' :-2,\n",
    "'degradation' :-2,\n",
    "'delay' :-2,\n",
    "'delayed' :-2,\n",
    "'delaying' :-2,\n",
    "'delays' :-2,\n",
    "'deliberate' :-2,\n",
    "'delinquencies' :-2,\n",
    "'delinquency' :-2,\n",
    "'delinquent' :-2,\n",
    "'delisted' :-2,\n",
    "'delisting' :-2,\n",
    "'denial' :-2,\n",
    "'denied' :-2,\n",
    "'deny' :-2,\n",
    "'dependence' :-2,\n",
    "'dependencies' :-2,\n",
    "'dependency' :-2,\n",
    "'dependent' :-2,\n",
    "'deplete' :-2,\n",
    "'depleted' :-2,\n",
    "'depleting' :-2,\n",
    "'depletion' :-2,\n",
    "'depress' :-2,\n",
    "'depressed' :-2,\n",
    "'depresses' :-2,\n",
    "'depressing' :-2,\n",
    "'deprive' :-2,\n",
    "'depriving' :-2,\n",
    "'destabilize' :-2,\n",
    "'destabilized' :-2,\n",
    "'destabilizing' :-2,\n",
    "'destroy' :-2,\n",
    "'destroyed' :-2,\n",
    "'destruction' :-2,\n",
    "'deter' :-2,\n",
    "'deteriorate' :-2,\n",
    "'deteriorated' :-2,\n",
    "'deteriorates' :-2,\n",
    "'deteriorating' :-2,\n",
    "'deterioration' :-2,\n",
    "'deteriorations' :-2,\n",
    "'detract' :-2,\n",
    "'detracted' :-2,\n",
    "'detriment' :-2,\n",
    "'detrimental' :-2,\n",
    "'detrimentally' :-2,\n",
    "'detriments' :-2,\n",
    "'devalue' :-2,\n",
    "'devalued' :-2,\n",
    "'devastation' :-2,\n",
    "'deviate' :-2,\n",
    "'deviated' :-2,\n",
    "'deviates' :-2,\n",
    "'deviating' :-2,\n",
    "'deviation' :-2,\n",
    "'deviations' :-2,\n",
    "'difficult' :-2,\n",
    "'difficulties' :-2,\n",
    "'difficulty' :-2,\n",
    "'diminish' :-2,\n",
    "'diminished' :-2,\n",
    "'diminishing' :-2,\n",
    "'diminution' :-2,\n",
    "'disadvantage' :-2,\n",
    "'disadvantaged' :-2,\n",
    "'disadvantageous' :-2,\n",
    "'disadvantages' :-2,\n",
    "'disagree' :-2,\n",
    "'disagreement' :-2,\n",
    "'disagreements' :-2,\n",
    "'disallow' :-2,\n",
    "'disallowances' :-2,\n",
    "'disappear' :-2,\n",
    "'disappearance' :-2,\n",
    "'disappointing' :-2,\n",
    "'disappointments' :-2,\n",
    "'disapprove' :-2,\n",
    "'disapproved' :-2,\n",
    "'disaster' :-2,\n",
    "'disasters' :-2,\n",
    "'disciplinary' :-2,\n",
    "'discontinuance' :-2,\n",
    "'discontinuation' :-2,\n",
    "'discontinues' :-2,\n",
    "'discourage' :-2,\n",
    "'discourages' :-2,\n",
    "'discouraging' :-2,\n",
    "'discrepancies' :-2,\n",
    "'discrepancy' :-2,\n",
    "'disfavor' :-2,\n",
    "'disgorge' :-2,\n",
    "'disorderly' :-2,\n",
    "'disparities' :-2,\n",
    "'disparity' :-2,\n",
    "'displace' :-2,\n",
    "'displacement' :-2,\n",
    "'dispose' :-2,\n",
    "'disproportional' :-2,\n",
    "'disproportionate' :-2,\n",
    "'disproportionately' :-2,\n",
    "'dispute' :-2,\n",
    "'disputed' :-2,\n",
    "'disputes' :-2,\n",
    "'disqualification' :-2,\n",
    "'disqualified' :-2,\n",
    "'disrupt' :-2,\n",
    "'disrupted' :-2,\n",
    "'disruption' :-2,\n",
    "'disruptions' :-2,\n",
    "'disruptive' :-2,\n",
    "'dissolution' :-2,\n",
    "'distorted' :-2,\n",
    "'distortions' :-2,\n",
    "'distress' :-2,\n",
    "'distressed' :-2,\n",
    "'disturbances' :-2,\n",
    "'diversion' :-2,\n",
    "'divert' :-2,\n",
    "'divest' :-2,\n",
    "'divesting' :-2,\n",
    "'divestitures' :-2,\n",
    "'doubt' :-2,\n",
    "'doubtful' :-2,\n",
    "'doubts' :-2,\n",
    "'downgrade' :-2,\n",
    "'downgraded' :-2,\n",
    "'downgrades' :-2,\n",
    "'downgrading' :-2,\n",
    "'downsizing' :-2,\n",
    "'downtime' :-2,\n",
    "'downturn' :-2,\n",
    "'downturns' :-2,\n",
    "'downward' :-2,\n",
    "'downwards' :-2,\n",
    "'drag' :-2,\n",
    "'drastic' :-2,\n",
    "'drastically' :-2,\n",
    "'dropped' :-2,\n",
    "'drought' :-2,\n",
    "'droughts' :-2,\n",
    "'dysfunction' :-2,\n",
    "'dysfunctions' :-2,\n",
    "'easing' :-2,\n",
    "'egregiously' :-2,\n",
    "'encumber' :-2,\n",
    "'encumbered' :-2,\n",
    "'erode' :-2,\n",
    "'eroded' :-2,\n",
    "'erodes' :-2,\n",
    "'eroding' :-2,\n",
    "'erosion' :-2,\n",
    "'erratic' :-2,\n",
    "'erratically' :-2,\n",
    "'erroneous' :-2,\n",
    "'erroneously' :-2,\n",
    "'error' :-2,\n",
    "'errors' :-2,\n",
    "'escalate' :-2,\n",
    "'escalated' :-2,\n",
    "'escalating' :-2,\n",
    "'evasion' :-2,\n",
    "'exacerbate' :-2,\n",
    "'exacerbated' :-2,\n",
    "'exacerbates' :-2,\n",
    "'exacerbating' :-2,\n",
    "'exaggerate' :-2,\n",
    "'exaggerated' :-2,\n",
    "'exaggerates' :-2,\n",
    "'excessive' :-2,\n",
    "'excessively' :-2,\n",
    "'exploit' :-2,\n",
    "'exploitation' :-2,\n",
    "'exploiting' :-2,\n",
    "'expose' :-2,\n",
    "'exposed' :-2,\n",
    "'exposes' :-2,\n",
    "'exposing' :-2,\n",
    "'expropriate' :-2,\n",
    "'expropriated' :-2,\n",
    "'expropriates' :-2,\n",
    "'expropriating' :-2,\n",
    "'expropriation' :-2,\n",
    "'expropriations' :-2,\n",
    "'fail' :-2,\n",
    "'failed' :-2,\n",
    "'failing' :-2,\n",
    "'fails' :-2,\n",
    "'failure' :-2,\n",
    "'failures' :-2,\n",
    "'fall' :-2,\n",
    "'fallout' :-2,\n",
    "'false' :-2,\n",
    "'fault' :-2,\n",
    "'faulty' :-2,\n",
    "'fear' :-2,\n",
    "'fears' :-2,\n",
    "'fines' :-2,\n",
    "'flawed' :-2,\n",
    "'flaws' :-2,\n",
    "'force' :-2,\n",
    "'forced' :-2,\n",
    "'forcing' :-2,\n",
    "'foreclose' :-2,\n",
    "'foreclosed' :-2,\n",
    "'foreclosure' :-2,\n",
    "'foreclosures' :-2,\n",
    "'forego' :-2,\n",
    "'foregoes' :-2,\n",
    "'foregone' :-2,\n",
    "'forfeited' :-2,\n",
    "'forfeiture' :-2,\n",
    "'fraud' :-2,\n",
    "'fraudulent' :-2,\n",
    "'halt' :-2,\n",
    "'halted' :-2,\n",
    "'hamper' :-2,\n",
    "'hampered' :-2,\n",
    "'hampers' :-2,\n",
    "'hardship' :-2,\n",
    "'harm' :-2,\n",
    "'harmed' :-2,\n",
    "'harmful' :-2,\n",
    "'harms' :-2,\n",
    "'harsh' :-2,\n",
    "'harsher' :-2,\n",
    "'hazardous' :-2,\n",
    "'hazards' :-2,\n",
    "'hinder' :-2,\n",
    "'hindered' :-2,\n",
    "'hostile' :-2,\n",
    "'hostility' :-2,\n",
    "'hurt' :-2,\n",
    "'hurting' :-2,\n",
    "'ill' :-2,\n",
    "'illegal' :-2,\n",
    "'illiquid' :-2,\n",
    "'illiquidity' :-2,\n",
    "'immature' :-2,\n",
    "'impair' :-2,\n",
    "'impaired' :-2,\n",
    "'impairing' :-2,\n",
    "'impairment' :-2,\n",
    "'impairments' :-2,\n",
    "'impairs' :-2,\n",
    "'impede' :-2,\n",
    "'impediment' :-2,\n",
    "'impediments' :-2,\n",
    "'impending' :-2,\n",
    "'imperfection' :-2,\n",
    "'imperfections' :-2,\n",
    "'impermissible' :-2,\n",
    "'impossible' :-2,\n",
    "'impracticable' :-2,\n",
    "'impractical' :-2,\n",
    "'improper' :-2,\n",
    "'improperly' :-2,\n",
    "'inability' :-2,\n",
    "'inaccessible' :-2,\n",
    "'inaccuracies' :-2,\n",
    "'inaccuracy' :-2,\n",
    "'inaccurate' :-2,\n",
    "'inaccurately' :-2,\n",
    "'inaction' :-2,\n",
    "'inadequacy' :-2,\n",
    "'inadequate' :-2,\n",
    "'inadvertent' :-2,\n",
    "'inadvertently' :-2,\n",
    "'inadvisable' :-2,\n",
    "'inappropriate' :-2,\n",
    "'incapable' :-2,\n",
    "'incidence' :-2,\n",
    "'incident' :-2,\n",
    "'incidents' :-2,\n",
    "'incompatibility' :-2,\n",
    "'inconsistencies' :-2,\n",
    "'inconsistency' :-2,\n",
    "'inconsistent' :-2,\n",
    "'incorrect' :-2,\n",
    "'incorrectly' :-2,\n",
    "'ineffective' :-2,\n",
    "'ineffectively' :-2,\n",
    "'inefficiencies' :-2,\n",
    "'inefficiency' :-2,\n",
    "'inefficient' :-2,\n",
    "'ineligible' :-2,\n",
    "'inequitable' :-2,\n",
    "'inexperience' :-2,\n",
    "'inexperienced' :-2,\n",
    "'inferior' :-2,\n",
    "'infringed' :-2,\n",
    "'infringement' :-2,\n",
    "'infringing' :-2,\n",
    "'inhibited' :-2,\n",
    "'injunction' :-2,\n",
    "'injunctions' :-2,\n",
    "'injuries' :-2,\n",
    "'injury' :-2,\n",
    "'inordinately' :-2,\n",
    "'insolvencies' :-2,\n",
    "'insolvency' :-2,\n",
    "'insolvent' :-2,\n",
    "'instability' :-2,\n",
    "'insufficiency' :-2,\n",
    "'insufficient' :-2,\n",
    "'insufficiently' :-2,\n",
    "'insurrections' :-2,\n",
    "'interfere' :-2,\n",
    "'interfered' :-2,\n",
    "'interference' :-2,\n",
    "'interferences' :-2,\n",
    "'interferes' :-2,\n",
    "'interfering' :-2,\n",
    "'interrupt' :-2,\n",
    "'interrupted' :-2,\n",
    "'interruption' :-2,\n",
    "'interruptions' :-2,\n",
    "'invalid' :-2,\n",
    "'invalidate' :-2,\n",
    "'invalidated' :-2,\n",
    "'invalidates' :-2,\n",
    "'invalidating' :-2,\n",
    "'invalidation' :-2,\n",
    "'involuntarily' :-2,\n",
    "'involuntary' :-2,\n",
    "'irregular' :-2,\n",
    "'irregularities' :-2,\n",
    "'irregularly' :-2,\n",
    "'jeopardize' :-2,\n",
    "'jeopardized' :-2,\n",
    "'lack' :-2,\n",
    "'lacked' :-2,\n",
    "'lacking' :-2,\n",
    "'lackluster' :-2,\n",
    "'lacks' :-2,\n",
    "'lag' :-2,\n",
    "'lagged' :-2,\n",
    "'lagging' :-2,\n",
    "'lags' :-2,\n",
    "'lapse' :-2,\n",
    "'lapsing' :-2,\n",
    "'laundering' :-2,\n",
    "'limitations' :-2,\n",
    "'lingering' :-2,\n",
    "'liquidate' :-2,\n",
    "'liquidated' :-2,\n",
    "'liquidates' :-2,\n",
    "'liquidation' :-2,\n",
    "'liquidations' :-2,\n",
    "'litigating' :-2,\n",
    "'litigation' :-2,\n",
    "'lose' :-2,\n",
    "'loses' :-2,\n",
    "'losing' :-2,\n",
    "'loss' :-2,\n",
    "'losses' :-2,\n",
    "'lost' :-2,\n",
    "'lying' :-2,\n",
    "'malfeasance' :-2,\n",
    "'malfunction' :-2,\n",
    "'malfunctioning' :-2,\n",
    "'malfunctions' :-2,\n",
    "'malicious' :-2,\n",
    "'malpractice' :-2,\n",
    "'manipulate' :-2,\n",
    "'manipulated' :-2,\n",
    "'manipulation' :-2,\n",
    "'markdowns' :-2,\n",
    "'misappropriating' :-2,\n",
    "'misappropriation' :-2,\n",
    "'miscalculations' :-2,\n",
    "'mishandling' :-2,\n",
    "'misjudge' :-2,\n",
    "'misjudged' :-2,\n",
    "'misjudges' :-2,\n",
    "'misjudgment' :-2,\n",
    "'misjudgments' :-2,\n",
    "'misleading' :-2,\n",
    "'mismanagement' :-2,\n",
    "'mismatch' :-2,\n",
    "'mismatching' :-2,\n",
    "'misplaced' :-2,\n",
    "'mispricing' :-2,\n",
    "'mispricings' :-2,\n",
    "'misrepresentation' :-2,\n",
    "'miss' :-2,\n",
    "'missed' :-2,\n",
    "'misses' :-2,\n",
    "'mistaken' :-2,\n",
    "'mistakes' :-2,\n",
    "'misunderstood' :-2,\n",
    "'misuse' :-2,\n",
    "'moratoria' :-2,\n",
    "'moratorium' :-2,\n",
    "'moratoriums' :-2,\n",
    "'negative' :-2,\n",
    "'negatively' :-2,\n",
    "'neglect' :-2,\n",
    "'negligence' :-2,\n",
    "'negligent' :-2,\n",
    "'noncompliant' :-2,\n",
    "'nonpayment' :-2,\n",
    "'nonperformance' :-2,\n",
    "'nonperforming' :-2,\n",
    "'nullify' :-2,\n",
    "'nullifying' :-2,\n",
    "'obsolescence' :-2,\n",
    "'obsolete' :-2,\n",
    "'obstacles' :-2,\n",
    "'omission' :-2,\n",
    "'omissions' :-2,\n",
    "'omit' :-2,\n",
    "'omitted' :-2,\n",
    "'omitting' :-2,\n",
    "'onerous' :-2,\n",
    "'oppose' :-2,\n",
    "'opposed' :-2,\n",
    "'opposition' :-2,\n",
    "'outages' :-2,\n",
    "'outdated' :-2,\n",
    "'overbuilding' :-2,\n",
    "'overburdened' :-2,\n",
    "'overcapacity' :-2,\n",
    "'overestimates' :-2,\n",
    "'overestimation' :-2,\n",
    "'overlooked' :-2,\n",
    "'overproduction' :-2,\n",
    "'overruns' :-2,\n",
    "'overstate' :-2,\n",
    "'overstated' :-2,\n",
    "'oversupply' :-2,\n",
    "'overturned' :-2,\n",
    "'overvalued' :-2,\n",
    "'panic' :-2,\n",
    "'penalties' :-2,\n",
    "'penalty' :-2,\n",
    "'peril' :-2,\n",
    "'perjury' :-2,\n",
    "'persist' :-2,\n",
    "'persisted' :-2,\n",
    "'persistence' :-2,\n",
    "'persistent' :-2,\n",
    "'persistently' :-2,\n",
    "'persists' :-2,\n",
    "'pervasive' :-2,\n",
    "'pervasiveness' :-2,\n",
    "'poor' :-2,\n",
    "'poorly' :-2,\n",
    "'poses' :-2,\n",
    "'posing' :-2,\n",
    "'postpone' :-2,\n",
    "'postponed' :-2,\n",
    "'postponing' :-2,\n",
    "'preclude' :-2,\n",
    "'precludes' :-2,\n",
    "'precluding' :-2,\n",
    "'premature' :-2,\n",
    "'preventing' :-2,\n",
    "'prevention' :-2,\n",
    "'prevents' :-2,\n",
    "'problem' :-2,\n",
    "'problematic' :-2,\n",
    "'problems' :-2,\n",
    "'prolongation' :-2,\n",
    "'prolonged' :-2,\n",
    "'prone' :-2,\n",
    "'protests' :-2,\n",
    "'protracted' :-2,\n",
    "'punitive' :-2,\n",
    "'purport' :-2,\n",
    "'purports' :-2,\n",
    "'question' :-2,\n",
    "'questionable' :-2,\n",
    "'questions' :-2,\n",
    "'recall' :-2,\n",
    "'recalls' :-2,\n",
    "'recession' :-2,\n",
    "'recessionary' :-2,\n",
    "'recessions' :-2,\n",
    "'redress' :-2,\n",
    "'refusal' :-2,\n",
    "'refuse' :-2,\n",
    "'refused' :-2,\n",
    "'refuses' :-2,\n",
    "'reject' :-2,\n",
    "'rejected' :-2,\n",
    "'rejection' :-2,\n",
    "'relinquishes' :-2,\n",
    "'reluctance' :-2,\n",
    "'reluctant' :-2,\n",
    "'repossessed' :-2,\n",
    "'repudiate' :-2,\n",
    "'repudiation' :-2,\n",
    "'resign' :-2,\n",
    "'resignation' :-2,\n",
    "'restate' :-2,\n",
    "'restated' :-2,\n",
    "'restatement' :-2,\n",
    "'restatements' :-2,\n",
    "'restating' :-2,\n",
    "'restructure' :-2,\n",
    "'restructured' :-2,\n",
    "'restructures' :-2,\n",
    "'restructuring' :-2,\n",
    "'restructurings' :-2,\n",
    "'retaliatory' :-2,\n",
    "'revocation' :-2,\n",
    "'revoke' :-2,\n",
    "'revoked' :-2,\n",
    "'revoking' :-2,\n",
    "'riskier' :-2,\n",
    "'riskiest' :-2,\n",
    "'risky' :-2,\n",
    "'sacrifice' :-2,\n",
    "'sacrificed' :-2,\n",
    "'scrutiny' :-2,\n",
    "'seize' :-2,\n",
    "'seized' :-2,\n",
    "'serious' :-2,\n",
    "'seriously' :-2,\n",
    "'setback' :-2,\n",
    "'setbacks' :-2,\n",
    "'severe' :-2,\n",
    "'severely' :-2,\n",
    "'severity' :-2,\n",
    "'sharply' :-2,\n",
    "'shortage' :-2,\n",
    "'shortages' :-2,\n",
    "'shortfall' :-2,\n",
    "'shortfalls' :-2,\n",
    "'shut' :-2,\n",
    "'shutdown' :-2,\n",
    "'slippage' :-2,\n",
    "'slow' :-2,\n",
    "'slowdown' :-2,\n",
    "'slowdowns' :-2,\n",
    "'slowed' :-2,\n",
    "'slower' :-2,\n",
    "'slowing' :-2,\n",
    "'slowly' :-2,\n",
    "'sluggish' :-2,\n",
    "'stagnation' :-2,\n",
    "'stolen' :-2,\n",
    "'stoppages' :-2,\n",
    "'strain' :-2,\n",
    "'strained' :-2,\n",
    "'strains' :-2,\n",
    "'stress' :-2,\n",
    "'stressed' :-2,\n",
    "'stresses' :-2,\n",
    "'subjecting' :-2,\n",
    "'sue' :-2,\n",
    "'suffer' :-2,\n",
    "'suffered' :-2,\n",
    "'suffering' :-2,\n",
    "'suffers' :-2,\n",
    "'susceptibility' :-2,\n",
    "'susceptible' :-2,\n",
    "'suspect' :-2,\n",
    "'suspend' :-2,\n",
    "'suspended' :-2,\n",
    "'suspending' :-2,\n",
    "'suspension' :-2,\n",
    "'suspensions' :-2,\n",
    "'tense' :-2,\n",
    "'terminate' :-2,\n",
    "'terminated' :-2,\n",
    "'terminates' :-2,\n",
    "'terminating' :-2,\n",
    "'termination' :-2,\n",
    "'threat' :-2,\n",
    "'threaten' :-2,\n",
    "'threatened' :-2,\n",
    "'threatens' :-2,\n",
    "'threats' :-2,\n",
    "'tightening' :-2,\n",
    "'tolerate' :-2,\n",
    "'trouble' :-2,\n",
    "'troubled' :-2,\n",
    "'troubles' :-2,\n",
    "'turbulence' :-2,\n",
    "'turmoil' :-2,\n",
    "'unable' :-2,\n",
    "'unanticipated' :-2,\n",
    "'unattractive' :-2,\n",
    "'unauthorized' :-2,\n",
    "'unavailability' :-2,\n",
    "'unavailable' :-2,\n",
    "'unavoidable' :-2,\n",
    "'unaware' :-2,\n",
    "'uncontrollable' :-2,\n",
    "'undelivered' :-2,\n",
    "'undercapitalized' :-2,\n",
    "'underestimate' :-2,\n",
    "'underestimated' :-2,\n",
    "'underfunded' :-2,\n",
    "'undermine' :-2,\n",
    "'underperform' :-2,\n",
    "'underperformance' :-2,\n",
    "'underperformed' :-2,\n",
    "'underperforming' :-2,\n",
    "'underperforms' :-2,\n",
    "'underproduction' :-2,\n",
    "'understate' :-2,\n",
    "'underutilization' :-2,\n",
    "'undesirable' :-2,\n",
    "'undetected' :-2,\n",
    "'undetermined' :-2,\n",
    "'undisclosed' :-2,\n",
    "'undue' :-2,\n",
    "'uneconomic' :-2,\n",
    "'uneconomical' :-2,\n",
    "'unemployed' :-2,\n",
    "'unemployment' :-2,\n",
    "'unethical' :-2,\n",
    "'unexpected' :-2,\n",
    "'unexpectedly' :-2,\n",
    "'unfair' :-2,\n",
    "'unfavorable' :-2,\n",
    "'unfavorably' :-2,\n",
    "'unfavourable' :-2,\n",
    "'unforeseeable' :-2,\n",
    "'unforeseen' :-2,\n",
    "'unfounded' :-2,\n",
    "'unfunded' :-2,\n",
    "'uninsured' :-2,\n",
    "'unintended' :-2,\n",
    "'unintentional' :-2,\n",
    "'unintentionally' :-2,\n",
    "'unjustified' :-2,\n",
    "'unlawful' :-2,\n",
    "'unnecessary' :-2,\n",
    "'unpaid' :-2,\n",
    "'unplanned' :-2,\n",
    "'unpredictability' :-2,\n",
    "'unpredictable' :-2,\n",
    "'unpredictably' :-2,\n",
    "'unprofitable' :-2,\n",
    "'unreasonable' :-2,\n",
    "'unreliable' :-2,\n",
    "'unresolved' :-2,\n",
    "'unrest' :-2,\n",
    "'unsafe' :-2,\n",
    "'unstable' :-2,\n",
    "'unsuccessful' :-2,\n",
    "'untimely' :-2,\n",
    "'unusable' :-2,\n",
    "'unwarranted' :-2,\n",
    "'unwilling' :-2,\n",
    "'unwillingness' :-2,\n",
    "'upset' :-2,\n",
    "'usury' :-2,\n",
    "'violate' :-2,\n",
    "'violated' :-2,\n",
    "'violates' :-2,\n",
    "'violating' :-2,\n",
    "'violation' :-2,\n",
    "'violations' :-2,\n",
    "'violators' :-2,\n",
    "'violence' :-2,\n",
    "'violent' :-2,\n",
    "'voided' :-2,\n",
    "'volatile' :-2,\n",
    "'volatility' :-2,\n",
    "'vulnerabilities' :-2,\n",
    "'vulnerability' :-2,\n",
    "'vulnerable' :-2,\n",
    "'warned' :-2,\n",
    "'warning' :-2,\n",
    "'warnings' :-2,\n",
    "'wasting' :-2,\n",
    "'weak' :-2,\n",
    "'weaken' :-2,\n",
    "'weakened' :-2,\n",
    "'weakening' :-2,\n",
    "'weakens' :-2,\n",
    "'weaker' :-2,\n",
    "'weakness' :-2,\n",
    "'weaknesses' :-2,\n",
    "'worse' :-2,\n",
    "'worsen' :-2,\n",
    "'worsened' :-2,\n",
    "'worsening' :-2,\n",
    "'worsens' :-2,\n",
    "'worst' :-2,\n",
    "'worthless' :-2,\n",
    "'wrong' :-2,\n",
    "'wrongfully' :-2,\n",
    "'accomplish' :2,\n",
    "'accomplishing' :2,\n",
    "'accomplishment' :2,\n",
    "'achieve' :2,\n",
    "'achieved' :2,\n",
    "'achievement' :2,\n",
    "'achievements' :2,\n",
    "'achieves' :2,\n",
    "'achieving' :2,\n",
    "'adequately' :2,\n",
    "'advancement' :2,\n",
    "'advancements' :2,\n",
    "'advances' :2,\n",
    "'advancing' :2,\n",
    "'advantage' :2,\n",
    "'advantaged' :2,\n",
    "'advantageous' :2,\n",
    "'advantageously' :2,\n",
    "'advantages' :2,\n",
    "'assure' :2,\n",
    "'assured' :2,\n",
    "'attain' :2,\n",
    "'attained' :2,\n",
    "'attaining' :2,\n",
    "'attainment' :2,\n",
    "'attractive' :2,\n",
    "'attractiveness' :2,\n",
    "'beneficial' :2,\n",
    "'beneficially' :2,\n",
    "'benefit' :2,\n",
    "'benefited' :2,\n",
    "'benefiting' :2,\n",
    "'benefitted' :2,\n",
    "'benefitting' :2,\n",
    "'best' :2,\n",
    "'better' :2,\n",
    "'booming' :2,\n",
    "'boost' :2,\n",
    "'breakthroughs' :2,\n",
    "'charitable' :2,\n",
    "'collaborate' :2,\n",
    "'collaboration' :2,\n",
    "'collaborative' :2,\n",
    "'compliment' :2,\n",
    "'complimentary' :2,\n",
    "'confident' :2,\n",
    "'constructive' :2,\n",
    "'constructively' :2,\n",
    "'dependable' :2,\n",
    "'desirable' :2,\n",
    "'desired' :2,\n",
    "'easier' :2,\n",
    "'easily' :2,\n",
    "'easy' :2,\n",
    "'effective' :2,\n",
    "'efficiencies' :2,\n",
    "'efficiency' :2,\n",
    "'efficient' :2,\n",
    "'efficiently' :2,\n",
    "'empower' :2,\n",
    "'enable' :2,\n",
    "'enabled' :2,\n",
    "'enables' :2,\n",
    "'enabling' :2,\n",
    "'encouraged' :2,\n",
    "'encourages' :2,\n",
    "'encouraging' :2,\n",
    "'enhance' :2,\n",
    "'enhanced' :2,\n",
    "'enhancement' :2,\n",
    "'enhancements' :2,\n",
    "'enhances' :2,\n",
    "'enhancing' :2,\n",
    "'enjoy' :2,\n",
    "'enjoyed' :2,\n",
    "'excellent' :2,\n",
    "'exceptional' :2,\n",
    "'exceptionally' :2,\n",
    "'favorable' :2,\n",
    "'favorably' :2,\n",
    "'favored' :2,\n",
    "'favoring' :2,\n",
    "'friendly' :2,\n",
    "'gain' :2,\n",
    "'gained' :2,\n",
    "'gaining' :2,\n",
    "'gains' :2,\n",
    "'good' :2,\n",
    "'great' :2,\n",
    "'greater' :2,\n",
    "'greatest' :2,\n",
    "'greatly' :2,\n",
    "'highest' :2,\n",
    "'honor' :2,\n",
    "'honoring' :2,\n",
    "'ideal' :2,\n",
    "'improve' :2,\n",
    "'improved' :2,\n",
    "'improvement' :2,\n",
    "'improvements' :2,\n",
    "'improves' :2,\n",
    "'improving' :2,\n",
    "'influential' :2,\n",
    "'innovate' :2,\n",
    "'innovation' :2,\n",
    "'innovations' :2,\n",
    "'innovative' :2,\n",
    "'innovators' :2,\n",
    "'integrity' :2,\n",
    "'inventing' :2,\n",
    "'inventions' :2,\n",
    "'leadership' :2,\n",
    "'leading' :2,\n",
    "'loyal' :2,\n",
    "'lucrative' :2,\n",
    "'mitigate' :2,\n",
    "'opportunities' :2,\n",
    "'opportunistic' :2,\n",
    "'opportunistically' :2,\n",
    "'opportunity' :2,\n",
    "'optimistic' :2,\n",
    "'outperform' :2,\n",
    "'outperformed' :2,\n",
    "'outperforming' :2,\n",
    "'outperforms' :2,\n",
    "'overcome' :2,\n",
    "'perfect' :2,\n",
    "'perfectly' :2,\n",
    "'positive' :2,\n",
    "'positively' :2,\n",
    "'premier' :2,\n",
    "'profitability' :2,\n",
    "'profitable' :2,\n",
    "'profitably' :2,\n",
    "'progress' :2,\n",
    "'prosperity' :2,\n",
    "'rebound' :2,\n",
    "'rebounded' :2,\n",
    "'rebounding' :2,\n",
    "'resolve' :2,\n",
    "'reward' :2,\n",
    "'rewarded' :2,\n",
    "'rewards' :2,\n",
    "'satisfaction' :2,\n",
    "'satisfactory' :2,\n",
    "'satisfied' :2,\n",
    "'satisfies' :2,\n",
    "'satisfy' :2,\n",
    "'satisfying' :2,\n",
    "'stability' :2,\n",
    "'stabilization' :2,\n",
    "'stabilize' :2,\n",
    "'stabilizing' :2,\n",
    "'stable' :2,\n",
    "'strength' :2,\n",
    "'strengthen' :2,\n",
    "'strengthened' :2,\n",
    "'strengthening' :2,\n",
    "'strengthens' :2,\n",
    "'strengths' :2,\n",
    "'strong' :2,\n",
    "'stronger' :2,\n",
    "'strongest' :2,\n",
    "'succeed' :2,\n",
    "'succeeded' :2,\n",
    "'succeeding' :2,\n",
    "'succeeds' :2,\n",
    "'success' :2,\n",
    "'successes' :2,\n",
    "'successful' :2,\n",
    "'successfully' :2,\n",
    "'superior' :2,\n",
    "'surpassing' :2,\n",
    "'transparency' :2,\n",
    "'upturn' :2,\n",
    "'upturns' :2,\n",
    "'valuable' :2,\n",
    "'win' :2,\n",
    "'winner' :2,\n",
    "'winning' :2,\n",
    "'worthy' :2\n",
    "}"
   ]
  },
  {
   "cell_type": "code",
   "execution_count": 19,
   "metadata": {},
   "outputs": [],
   "source": [
    "sia.lexicon.update(new_words)"
   ]
  },
  {
   "cell_type": "code",
   "execution_count": 20,
   "metadata": {},
   "outputs": [
    {
     "name": "stdout",
     "output_type": "stream",
     "text": [
      "2\n"
     ]
    }
   ],
   "source": [
    "for name, age in sia.lexicon.items():    # for name, age in dictionary.iteritems():  (for Python 2.x)\n",
    "    if name == 'greatest':\n",
    "        print(age)"
   ]
  },
  {
   "cell_type": "code",
   "execution_count": 21,
   "metadata": {},
   "outputs": [],
   "source": [
    "compound=[]\n",
    "negative=[]\n",
    "positive=[]\n",
    "neutral=[]\n",
    "for rows in test['Sentences']:\n",
    "    compound.append(sia.polarity_scores(rows).get('compound'))\n",
    "    negative.append(sia.polarity_scores(rows).get('neg'))\n",
    "    positive.append(sia.polarity_scores(rows).get('pos'))\n",
    "    neutral.append(sia.polarity_scores(rows).get('neu'))"
   ]
  },
  {
   "cell_type": "code",
   "execution_count": 22,
   "metadata": {},
   "outputs": [],
   "source": [
    "test['negative_score']=''\n",
    "test['positive_score']=''\n",
    "test['neutral_score']=''\n",
    "test['compound_score']=''"
   ]
  },
  {
   "cell_type": "code",
   "execution_count": 23,
   "metadata": {},
   "outputs": [],
   "source": [
    "test['negative_score']=negative\n",
    "test['positive_score']=positive\n",
    "test['neutral_score']=neutral\n",
    "test['compound_score']=compound"
   ]
  },
  {
   "cell_type": "code",
   "execution_count": 24,
   "metadata": {},
   "outputs": [
    {
     "data": {
      "text/html": [
       "<div>\n",
       "<style scoped>\n",
       "    .dataframe tbody tr th:only-of-type {\n",
       "        vertical-align: middle;\n",
       "    }\n",
       "\n",
       "    .dataframe tbody tr th {\n",
       "        vertical-align: top;\n",
       "    }\n",
       "\n",
       "    .dataframe thead th {\n",
       "        text-align: right;\n",
       "    }\n",
       "</style>\n",
       "<table border=\"1\" class=\"dataframe\">\n",
       "  <thead>\n",
       "    <tr style=\"text-align: right;\">\n",
       "      <th></th>\n",
       "      <th>Sentences</th>\n",
       "      <th>Sentiment</th>\n",
       "      <th>negative_score</th>\n",
       "      <th>positive_score</th>\n",
       "      <th>neutral_score</th>\n",
       "      <th>compound_score</th>\n",
       "    </tr>\n",
       "  </thead>\n",
       "  <tbody>\n",
       "    <tr>\n",
       "      <th>0</th>\n",
       "      <td>some of the portfolios holdings may underperfo...</td>\n",
       "      <td>1</td>\n",
       "      <td>0.250</td>\n",
       "      <td>0.0</td>\n",
       "      <td>0.750</td>\n",
       "      <td>-0.4588</td>\n",
       "    </tr>\n",
       "    <tr>\n",
       "      <th>1</th>\n",
       "      <td>the portfolio may make investments that become...</td>\n",
       "      <td>1</td>\n",
       "      <td>0.150</td>\n",
       "      <td>0.0</td>\n",
       "      <td>0.850</td>\n",
       "      <td>-0.4588</td>\n",
       "    </tr>\n",
       "    <tr>\n",
       "      <th>2</th>\n",
       "      <td>as a result, stock of mid- and small-capitaliz...</td>\n",
       "      <td>1</td>\n",
       "      <td>0.333</td>\n",
       "      <td>0.0</td>\n",
       "      <td>0.667</td>\n",
       "      <td>-0.7184</td>\n",
       "    </tr>\n",
       "    <tr>\n",
       "      <th>3</th>\n",
       "      <td>investment risk is the risk that the portfolio...</td>\n",
       "      <td>1</td>\n",
       "      <td>0.125</td>\n",
       "      <td>0.0</td>\n",
       "      <td>0.875</td>\n",
       "      <td>-0.4588</td>\n",
       "    </tr>\n",
       "    <tr>\n",
       "      <th>4</th>\n",
       "      <td>small cap investing</td>\n",
       "      <td>0</td>\n",
       "      <td>0.000</td>\n",
       "      <td>0.0</td>\n",
       "      <td>1.000</td>\n",
       "      <td>0.0000</td>\n",
       "    </tr>\n",
       "  </tbody>\n",
       "</table>\n",
       "</div>"
      ],
      "text/plain": [
       "                                           Sentences  Sentiment  \\\n",
       "0  some of the portfolios holdings may underperfo...          1   \n",
       "1  the portfolio may make investments that become...          1   \n",
       "2  as a result, stock of mid- and small-capitaliz...          1   \n",
       "3  investment risk is the risk that the portfolio...          1   \n",
       "4                                small cap investing          0   \n",
       "\n",
       "   negative_score  positive_score  neutral_score  compound_score  \n",
       "0           0.250             0.0          0.750         -0.4588  \n",
       "1           0.150             0.0          0.850         -0.4588  \n",
       "2           0.333             0.0          0.667         -0.7184  \n",
       "3           0.125             0.0          0.875         -0.4588  \n",
       "4           0.000             0.0          1.000          0.0000  "
      ]
     },
     "execution_count": 24,
     "metadata": {},
     "output_type": "execute_result"
    }
   ],
   "source": [
    "test.head()"
   ]
  },
  {
   "cell_type": "code",
   "execution_count": 25,
   "metadata": {},
   "outputs": [],
   "source": [
    "test['Pred_Sentiment']=np.where(test['compound_score']>=0, 0,1)"
   ]
  },
  {
   "cell_type": "code",
   "execution_count": 26,
   "metadata": {},
   "outputs": [
    {
     "data": {
      "text/plain": [
       "0.6777843954734961"
      ]
     },
     "execution_count": 26,
     "metadata": {},
     "output_type": "execute_result"
    }
   ],
   "source": [
    "sum(test['Pred_Sentiment']==test['Sentiment'])/len(test['Sentiment'])"
   ]
  },
  {
   "cell_type": "code",
   "execution_count": 27,
   "metadata": {},
   "outputs": [
    {
     "data": {
      "text/plain": [
       "(1679, 7)"
      ]
     },
     "execution_count": 27,
     "metadata": {},
     "output_type": "execute_result"
    }
   ],
   "source": [
    "test.shape"
   ]
  },
  {
   "cell_type": "markdown",
   "metadata": {},
   "source": [
    "#### Taking Count of Positive and Negative Words"
   ]
  },
  {
   "cell_type": "code",
   "execution_count": 28,
   "metadata": {},
   "outputs": [],
   "source": [
    "Negative_words = pd.read_excel('Negative_Words.xlsx')\n",
    "Negative_words = Negative_words.apply(lambda x: x.astype(str).str.lower())\n",
    "list_Negative = list(Negative_words['Negative'])"
   ]
  },
  {
   "cell_type": "code",
   "execution_count": 29,
   "metadata": {},
   "outputs": [],
   "source": [
    "Positive_words = pd.read_csv('Positive_Words.csv')\n",
    "Positive_words = Positive_words.apply(lambda x: x.astype(str).str.lower())\n",
    "list_Positive = list(Positive_words['Positive'])"
   ]
  },
  {
   "cell_type": "code",
   "execution_count": 30,
   "metadata": {},
   "outputs": [],
   "source": [
    "count_pos=0\n",
    "length_tokens=0\n",
    "cnt_pos=[]\n",
    "for row in test['Sentences']:\n",
    "    tokens=nltk.word_tokenize(row)\n",
    "    tokens1=[word.lower() for word in tokens]\n",
    "    length_tokens=len(tokens1)\n",
    "    #count_neg.append(len([i for i in tokens1 if i in list_Negative]))\n",
    "    count_pos = len([i for i in tokens1 if i in list_Positive])\n",
    "    cnt_pos.append(count_pos)\n",
    "\n",
    "    \n",
    "test['Pos_Words']=''\n",
    "test['Pos_Words']=cnt_pos"
   ]
  },
  {
   "cell_type": "code",
   "execution_count": 31,
   "metadata": {},
   "outputs": [],
   "source": [
    "count_neg=0\n",
    "length_tokens=0\n",
    "cnt_neg=[]\n",
    "for row in test['Sentences']:\n",
    "    tokens=nltk.word_tokenize(row)\n",
    "    tokens1=[word.lower() for word in tokens]\n",
    "    length_tokens=len(tokens1)\n",
    "    #count_neg.append(len([i for i in tokens1 if i in list_Negative]))\n",
    "    count_neg = len([i for i in tokens1 if i in list_Negative])\n",
    "    cnt_neg.append(count_neg)\n",
    "    \n",
    "test['Neg_Words']=''\n",
    "test['Neg_Words']=cnt_neg"
   ]
  },
  {
   "cell_type": "code",
   "execution_count": 32,
   "metadata": {},
   "outputs": [],
   "source": [
    "conditions = [(test['compound_score']>=0) & (test['Pos_Words']>test['Neg_Words']),(test['compound_score']<0) & (test['Pos_Words']<test['Neg_Words'])]"
   ]
  },
  {
   "cell_type": "code",
   "execution_count": 33,
   "metadata": {},
   "outputs": [],
   "source": [
    "choices=[0,1]"
   ]
  },
  {
   "cell_type": "code",
   "execution_count": 34,
   "metadata": {},
   "outputs": [],
   "source": [
    "test['Pred_Sentiment2']=np.select(conditions, choices)"
   ]
  },
  {
   "cell_type": "code",
   "execution_count": 35,
   "metadata": {},
   "outputs": [
    {
     "data": {
      "text/html": [
       "<div>\n",
       "<style scoped>\n",
       "    .dataframe tbody tr th:only-of-type {\n",
       "        vertical-align: middle;\n",
       "    }\n",
       "\n",
       "    .dataframe tbody tr th {\n",
       "        vertical-align: top;\n",
       "    }\n",
       "\n",
       "    .dataframe thead th {\n",
       "        text-align: right;\n",
       "    }\n",
       "</style>\n",
       "<table border=\"1\" class=\"dataframe\">\n",
       "  <thead>\n",
       "    <tr style=\"text-align: right;\">\n",
       "      <th></th>\n",
       "      <th>Sentences</th>\n",
       "      <th>Sentiment</th>\n",
       "      <th>negative_score</th>\n",
       "      <th>positive_score</th>\n",
       "      <th>neutral_score</th>\n",
       "      <th>compound_score</th>\n",
       "      <th>Pred_Sentiment</th>\n",
       "      <th>Pos_Words</th>\n",
       "      <th>Neg_Words</th>\n",
       "      <th>Pred_Sentiment2</th>\n",
       "    </tr>\n",
       "  </thead>\n",
       "  <tbody>\n",
       "    <tr>\n",
       "      <th>0</th>\n",
       "      <td>some of the portfolios holdings may underperfo...</td>\n",
       "      <td>1</td>\n",
       "      <td>0.250</td>\n",
       "      <td>0.0</td>\n",
       "      <td>0.750</td>\n",
       "      <td>-0.4588</td>\n",
       "      <td>1</td>\n",
       "      <td>0</td>\n",
       "      <td>1</td>\n",
       "      <td>1</td>\n",
       "    </tr>\n",
       "    <tr>\n",
       "      <th>1</th>\n",
       "      <td>the portfolio may make investments that become...</td>\n",
       "      <td>1</td>\n",
       "      <td>0.150</td>\n",
       "      <td>0.0</td>\n",
       "      <td>0.850</td>\n",
       "      <td>-0.4588</td>\n",
       "      <td>1</td>\n",
       "      <td>0</td>\n",
       "      <td>1</td>\n",
       "      <td>1</td>\n",
       "    </tr>\n",
       "    <tr>\n",
       "      <th>2</th>\n",
       "      <td>as a result, stock of mid- and small-capitaliz...</td>\n",
       "      <td>1</td>\n",
       "      <td>0.333</td>\n",
       "      <td>0.0</td>\n",
       "      <td>0.667</td>\n",
       "      <td>-0.7184</td>\n",
       "      <td>1</td>\n",
       "      <td>0</td>\n",
       "      <td>2</td>\n",
       "      <td>1</td>\n",
       "    </tr>\n",
       "    <tr>\n",
       "      <th>3</th>\n",
       "      <td>investment risk is the risk that the portfolio...</td>\n",
       "      <td>1</td>\n",
       "      <td>0.125</td>\n",
       "      <td>0.0</td>\n",
       "      <td>0.875</td>\n",
       "      <td>-0.4588</td>\n",
       "      <td>1</td>\n",
       "      <td>0</td>\n",
       "      <td>1</td>\n",
       "      <td>1</td>\n",
       "    </tr>\n",
       "    <tr>\n",
       "      <th>4</th>\n",
       "      <td>small cap investing</td>\n",
       "      <td>0</td>\n",
       "      <td>0.000</td>\n",
       "      <td>0.0</td>\n",
       "      <td>1.000</td>\n",
       "      <td>0.0000</td>\n",
       "      <td>0</td>\n",
       "      <td>0</td>\n",
       "      <td>0</td>\n",
       "      <td>0</td>\n",
       "    </tr>\n",
       "  </tbody>\n",
       "</table>\n",
       "</div>"
      ],
      "text/plain": [
       "                                           Sentences  Sentiment  \\\n",
       "0  some of the portfolios holdings may underperfo...          1   \n",
       "1  the portfolio may make investments that become...          1   \n",
       "2  as a result, stock of mid- and small-capitaliz...          1   \n",
       "3  investment risk is the risk that the portfolio...          1   \n",
       "4                                small cap investing          0   \n",
       "\n",
       "   negative_score  positive_score  neutral_score  compound_score  \\\n",
       "0           0.250             0.0          0.750         -0.4588   \n",
       "1           0.150             0.0          0.850         -0.4588   \n",
       "2           0.333             0.0          0.667         -0.7184   \n",
       "3           0.125             0.0          0.875         -0.4588   \n",
       "4           0.000             0.0          1.000          0.0000   \n",
       "\n",
       "   Pred_Sentiment  Pos_Words  Neg_Words  Pred_Sentiment2  \n",
       "0               1          0          1                1  \n",
       "1               1          0          1                1  \n",
       "2               1          0          2                1  \n",
       "3               1          0          1                1  \n",
       "4               0          0          0                0  "
      ]
     },
     "execution_count": 35,
     "metadata": {},
     "output_type": "execute_result"
    }
   ],
   "source": [
    "test.head()"
   ]
  },
  {
   "cell_type": "code",
   "execution_count": 36,
   "metadata": {},
   "outputs": [
    {
     "data": {
      "text/plain": [
       "0.6861226920786182"
      ]
     },
     "execution_count": 36,
     "metadata": {},
     "output_type": "execute_result"
    }
   ],
   "source": [
    "sum(test['Pred_Sentiment2']==test['Sentiment'])/len(test['Sentiment'])"
   ]
  },
  {
   "cell_type": "markdown",
   "metadata": {},
   "source": [
    "# Random Checks"
   ]
  },
  {
   "cell_type": "code",
   "execution_count": 43,
   "metadata": {},
   "outputs": [],
   "source": [
    "missclassified=test.loc[(test['Sentiment']!=test['Pred_Sentiment'])]"
   ]
  },
  {
   "cell_type": "code",
   "execution_count": 44,
   "metadata": {},
   "outputs": [
    {
     "data": {
      "text/plain": [
       "(541, 10)"
      ]
     },
     "execution_count": 44,
     "metadata": {},
     "output_type": "execute_result"
    }
   ],
   "source": [
    "missclassified.shape"
   ]
  },
  {
   "cell_type": "code",
   "execution_count": 139,
   "metadata": {},
   "outputs": [
    {
     "data": {
      "text/html": [
       "<div>\n",
       "<style scoped>\n",
       "    .dataframe tbody tr th:only-of-type {\n",
       "        vertical-align: middle;\n",
       "    }\n",
       "\n",
       "    .dataframe tbody tr th {\n",
       "        vertical-align: top;\n",
       "    }\n",
       "\n",
       "    .dataframe thead th {\n",
       "        text-align: right;\n",
       "    }\n",
       "</style>\n",
       "<table border=\"1\" class=\"dataframe\">\n",
       "  <thead>\n",
       "    <tr style=\"text-align: right;\">\n",
       "      <th></th>\n",
       "      <th>Sentences</th>\n",
       "      <th>Sentiment</th>\n",
       "      <th>negative</th>\n",
       "      <th>positive</th>\n",
       "      <th>neutral</th>\n",
       "      <th>compound</th>\n",
       "      <th>Pred_Sentiment</th>\n",
       "      <th>Pos_Words</th>\n",
       "      <th>Neg_Words</th>\n",
       "      <th>Pred_Sentiment2</th>\n",
       "    </tr>\n",
       "  </thead>\n",
       "  <tbody>\n",
       "    <tr>\n",
       "      <th>17</th>\n",
       "      <td>currency risk is especially high in emerging m...</td>\n",
       "      <td>1</td>\n",
       "      <td>0.000</td>\n",
       "      <td>0.0</td>\n",
       "      <td>1.000</td>\n",
       "      <td>0.0000</td>\n",
       "      <td>0</td>\n",
       "      <td>0</td>\n",
       "      <td>0</td>\n",
       "      <td>0</td>\n",
       "    </tr>\n",
       "    <tr>\n",
       "      <th>27</th>\n",
       "      <td>foreign investmentsinvesting in foreign (non-u...</td>\n",
       "      <td>0</td>\n",
       "      <td>0.052</td>\n",
       "      <td>0.0</td>\n",
       "      <td>0.948</td>\n",
       "      <td>-0.4588</td>\n",
       "      <td>1</td>\n",
       "      <td>0</td>\n",
       "      <td>1</td>\n",
       "      <td>1</td>\n",
       "    </tr>\n",
       "    <tr>\n",
       "      <th>36</th>\n",
       "      <td>the stock market tends to be cyclical, with pe...</td>\n",
       "      <td>0</td>\n",
       "      <td>0.130</td>\n",
       "      <td>0.0</td>\n",
       "      <td>0.870</td>\n",
       "      <td>-0.4588</td>\n",
       "      <td>1</td>\n",
       "      <td>0</td>\n",
       "      <td>1</td>\n",
       "      <td>1</td>\n",
       "    </tr>\n",
       "    <tr>\n",
       "      <th>38</th>\n",
       "      <td>from time to time, the stock market may not fa...</td>\n",
       "      <td>1</td>\n",
       "      <td>0.000</td>\n",
       "      <td>0.0</td>\n",
       "      <td>1.000</td>\n",
       "      <td>0.0000</td>\n",
       "      <td>0</td>\n",
       "      <td>0</td>\n",
       "      <td>0</td>\n",
       "      <td>0</td>\n",
       "    </tr>\n",
       "    <tr>\n",
       "      <th>45</th>\n",
       "      <td>other investment companiesthe main risk of inv...</td>\n",
       "      <td>1</td>\n",
       "      <td>0.000</td>\n",
       "      <td>0.0</td>\n",
       "      <td>1.000</td>\n",
       "      <td>0.0000</td>\n",
       "      <td>0</td>\n",
       "      <td>0</td>\n",
       "      <td>0</td>\n",
       "      <td>0</td>\n",
       "    </tr>\n",
       "  </tbody>\n",
       "</table>\n",
       "</div>"
      ],
      "text/plain": [
       "                                            Sentences  Sentiment  negative  \\\n",
       "17  currency risk is especially high in emerging m...          1     0.000   \n",
       "27  foreign investmentsinvesting in foreign (non-u...          0     0.052   \n",
       "36  the stock market tends to be cyclical, with pe...          0     0.130   \n",
       "38  from time to time, the stock market may not fa...          1     0.000   \n",
       "45  other investment companiesthe main risk of inv...          1     0.000   \n",
       "\n",
       "    positive  neutral  compound  Pred_Sentiment  Pos_Words  Neg_Words  \\\n",
       "17       0.0    1.000    0.0000               0          0          0   \n",
       "27       0.0    0.948   -0.4588               1          0          1   \n",
       "36       0.0    0.870   -0.4588               1          0          1   \n",
       "38       0.0    1.000    0.0000               0          0          0   \n",
       "45       0.0    1.000    0.0000               0          0          0   \n",
       "\n",
       "    Pred_Sentiment2  \n",
       "17                0  \n",
       "27                1  \n",
       "36                1  \n",
       "38                0  \n",
       "45                0  "
      ]
     },
     "execution_count": 139,
     "metadata": {},
     "output_type": "execute_result"
    }
   ],
   "source": [
    "missclassified.head()"
   ]
  },
  {
   "cell_type": "code",
   "execution_count": 142,
   "metadata": {},
   "outputs": [],
   "source": [
    "missclassified.to_csv('missclassified_testdata.csv', index=False)"
   ]
  },
  {
   "cell_type": "code",
   "execution_count": 171,
   "metadata": {},
   "outputs": [],
   "source": [
    "correct_classified=test.loc[(test['Sentiment']==test['Pred_Sentiment2'])]"
   ]
  },
  {
   "cell_type": "code",
   "execution_count": 172,
   "metadata": {},
   "outputs": [
    {
     "data": {
      "text/plain": [
       "(1092, 10)"
      ]
     },
     "execution_count": 172,
     "metadata": {},
     "output_type": "execute_result"
    }
   ],
   "source": [
    "correct_classified.shape"
   ]
  },
  {
   "cell_type": "code",
   "execution_count": 173,
   "metadata": {},
   "outputs": [
    {
     "data": {
      "text/plain": [
       "(1679, 10)"
      ]
     },
     "execution_count": 173,
     "metadata": {},
     "output_type": "execute_result"
    }
   ],
   "source": [
    "test.shape"
   ]
  },
  {
   "cell_type": "code",
   "execution_count": 174,
   "metadata": {},
   "outputs": [],
   "source": [
    "correct_classified.drop(columns=['negative','positive','neutral','compound','Pred_Sentiment','Pos_Words','Neg_Words','Pred_Sentiment2'], inplace=True)"
   ]
  },
  {
   "cell_type": "code",
   "execution_count": 175,
   "metadata": {},
   "outputs": [
    {
     "data": {
      "text/html": [
       "<div>\n",
       "<style scoped>\n",
       "    .dataframe tbody tr th:only-of-type {\n",
       "        vertical-align: middle;\n",
       "    }\n",
       "\n",
       "    .dataframe tbody tr th {\n",
       "        vertical-align: top;\n",
       "    }\n",
       "\n",
       "    .dataframe thead th {\n",
       "        text-align: right;\n",
       "    }\n",
       "</style>\n",
       "<table border=\"1\" class=\"dataframe\">\n",
       "  <thead>\n",
       "    <tr style=\"text-align: right;\">\n",
       "      <th></th>\n",
       "      <th>Sentences</th>\n",
       "      <th>Sentiment</th>\n",
       "    </tr>\n",
       "  </thead>\n",
       "  <tbody>\n",
       "    <tr>\n",
       "      <th>3</th>\n",
       "      <td>some of the portfolios holdings may underperfo...</td>\n",
       "      <td>1</td>\n",
       "    </tr>\n",
       "    <tr>\n",
       "      <th>33</th>\n",
       "      <td>the portfolio may make investments that become...</td>\n",
       "      <td>1</td>\n",
       "    </tr>\n",
       "    <tr>\n",
       "      <th>44</th>\n",
       "      <td>as a result, stock of mid- and small-capitaliz...</td>\n",
       "      <td>1</td>\n",
       "    </tr>\n",
       "    <tr>\n",
       "      <th>48</th>\n",
       "      <td>investment risk is the risk that the portfolio...</td>\n",
       "      <td>1</td>\n",
       "    </tr>\n",
       "    <tr>\n",
       "      <th>58</th>\n",
       "      <td>small cap investing</td>\n",
       "      <td>0</td>\n",
       "    </tr>\n",
       "  </tbody>\n",
       "</table>\n",
       "</div>"
      ],
      "text/plain": [
       "                                            Sentences  Sentiment\n",
       "3   some of the portfolios holdings may underperfo...          1\n",
       "33  the portfolio may make investments that become...          1\n",
       "44  as a result, stock of mid- and small-capitaliz...          1\n",
       "48  investment risk is the risk that the portfolio...          1\n",
       "58                                small cap investing          0"
      ]
     },
     "execution_count": 175,
     "metadata": {},
     "output_type": "execute_result"
    }
   ],
   "source": [
    "correct_classified.head()"
   ]
  },
  {
   "cell_type": "code",
   "execution_count": 176,
   "metadata": {},
   "outputs": [],
   "source": [
    "relabelled=pd.read_csv('Relabelled_Misclassified_Test.csv')"
   ]
  },
  {
   "cell_type": "code",
   "execution_count": 177,
   "metadata": {},
   "outputs": [
    {
     "data": {
      "text/plain": [
       "(587, 2)"
      ]
     },
     "execution_count": 177,
     "metadata": {},
     "output_type": "execute_result"
    }
   ],
   "source": [
    "relabelled.shape"
   ]
  },
  {
   "cell_type": "code",
   "execution_count": 179,
   "metadata": {},
   "outputs": [
    {
     "data": {
      "text/html": [
       "<div>\n",
       "<style scoped>\n",
       "    .dataframe tbody tr th:only-of-type {\n",
       "        vertical-align: middle;\n",
       "    }\n",
       "\n",
       "    .dataframe tbody tr th {\n",
       "        vertical-align: top;\n",
       "    }\n",
       "\n",
       "    .dataframe thead th {\n",
       "        text-align: right;\n",
       "    }\n",
       "</style>\n",
       "<table border=\"1\" class=\"dataframe\">\n",
       "  <thead>\n",
       "    <tr style=\"text-align: right;\">\n",
       "      <th></th>\n",
       "      <th>Sentences</th>\n",
       "      <th>Sentiment</th>\n",
       "    </tr>\n",
       "  </thead>\n",
       "  <tbody>\n",
       "    <tr>\n",
       "      <th>0</th>\n",
       "      <td>currency risk is especially high in emerging m...</td>\n",
       "      <td>1</td>\n",
       "    </tr>\n",
       "    <tr>\n",
       "      <th>1</th>\n",
       "      <td>foreign investmentsinvesting in foreign (non-u...</td>\n",
       "      <td>0</td>\n",
       "    </tr>\n",
       "    <tr>\n",
       "      <th>2</th>\n",
       "      <td>the stock market tends to be cyclical, with pe...</td>\n",
       "      <td>0</td>\n",
       "    </tr>\n",
       "    <tr>\n",
       "      <th>3</th>\n",
       "      <td>from time to time, the stock market may not fa...</td>\n",
       "      <td>0</td>\n",
       "    </tr>\n",
       "    <tr>\n",
       "      <th>4</th>\n",
       "      <td>other investment companiesthe main risk of inv...</td>\n",
       "      <td>0</td>\n",
       "    </tr>\n",
       "  </tbody>\n",
       "</table>\n",
       "</div>"
      ],
      "text/plain": [
       "                                           Sentences  Sentiment\n",
       "0  currency risk is especially high in emerging m...          1\n",
       "1  foreign investmentsinvesting in foreign (non-u...          0\n",
       "2  the stock market tends to be cyclical, with pe...          0\n",
       "3  from time to time, the stock market may not fa...          0\n",
       "4  other investment companiesthe main risk of inv...          0"
      ]
     },
     "execution_count": 179,
     "metadata": {},
     "output_type": "execute_result"
    }
   ],
   "source": [
    "relabelled.head()"
   ]
  },
  {
   "cell_type": "code",
   "execution_count": 180,
   "metadata": {},
   "outputs": [],
   "source": [
    "final=correct_classified.append(relabelled)"
   ]
  },
  {
   "cell_type": "code",
   "execution_count": 181,
   "metadata": {},
   "outputs": [
    {
     "data": {
      "text/plain": [
       "(1679, 2)"
      ]
     },
     "execution_count": 181,
     "metadata": {},
     "output_type": "execute_result"
    }
   ],
   "source": [
    "final.shape"
   ]
  },
  {
   "cell_type": "code",
   "execution_count": 182,
   "metadata": {},
   "outputs": [
    {
     "data": {
      "text/html": [
       "<div>\n",
       "<style scoped>\n",
       "    .dataframe tbody tr th:only-of-type {\n",
       "        vertical-align: middle;\n",
       "    }\n",
       "\n",
       "    .dataframe tbody tr th {\n",
       "        vertical-align: top;\n",
       "    }\n",
       "\n",
       "    .dataframe thead th {\n",
       "        text-align: right;\n",
       "    }\n",
       "</style>\n",
       "<table border=\"1\" class=\"dataframe\">\n",
       "  <thead>\n",
       "    <tr style=\"text-align: right;\">\n",
       "      <th></th>\n",
       "      <th>Sentences</th>\n",
       "      <th>Sentiment</th>\n",
       "    </tr>\n",
       "  </thead>\n",
       "  <tbody>\n",
       "    <tr>\n",
       "      <th>3</th>\n",
       "      <td>some of the portfolios holdings may underperfo...</td>\n",
       "      <td>1</td>\n",
       "    </tr>\n",
       "    <tr>\n",
       "      <th>33</th>\n",
       "      <td>the portfolio may make investments that become...</td>\n",
       "      <td>1</td>\n",
       "    </tr>\n",
       "    <tr>\n",
       "      <th>44</th>\n",
       "      <td>as a result, stock of mid- and small-capitaliz...</td>\n",
       "      <td>1</td>\n",
       "    </tr>\n",
       "    <tr>\n",
       "      <th>48</th>\n",
       "      <td>investment risk is the risk that the portfolio...</td>\n",
       "      <td>1</td>\n",
       "    </tr>\n",
       "    <tr>\n",
       "      <th>58</th>\n",
       "      <td>small cap investing</td>\n",
       "      <td>0</td>\n",
       "    </tr>\n",
       "  </tbody>\n",
       "</table>\n",
       "</div>"
      ],
      "text/plain": [
       "                                            Sentences  Sentiment\n",
       "3   some of the portfolios holdings may underperfo...          1\n",
       "33  the portfolio may make investments that become...          1\n",
       "44  as a result, stock of mid- and small-capitaliz...          1\n",
       "48  investment risk is the risk that the portfolio...          1\n",
       "58                                small cap investing          0"
      ]
     },
     "execution_count": 182,
     "metadata": {},
     "output_type": "execute_result"
    }
   ],
   "source": [
    "final.head()"
   ]
  },
  {
   "cell_type": "code",
   "execution_count": 183,
   "metadata": {},
   "outputs": [],
   "source": [
    "final.to_csv('Final_Relabelled_8thApril.csv', index=False)"
   ]
  }
 ],
 "metadata": {
  "kernelspec": {
   "display_name": "Python 3",
   "language": "python",
   "name": "python3"
  },
  "language_info": {
   "codemirror_mode": {
    "name": "ipython",
    "version": 3
   },
   "file_extension": ".py",
   "mimetype": "text/x-python",
   "name": "python",
   "nbconvert_exporter": "python",
   "pygments_lexer": "ipython3",
   "version": "3.6.6"
  }
 },
 "nbformat": 4,
 "nbformat_minor": 2
}
